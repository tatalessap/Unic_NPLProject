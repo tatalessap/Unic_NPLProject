{
 "cells": [
  {
   "cell_type": "code",
   "execution_count": 1,
   "metadata": {},
   "outputs": [],
   "source": [
    "import gensim\n",
    "from gensim.corpora.wikicorpus import WikiCorpus\n",
    "from gensim.models import Phrases, TfidfModel\n",
    "from gensim.models.phrases import Phraser\n",
    "from gensim.test.utils import datapath \n",
    "from gensim.models.word2vec import Word2Vec, Text8Corpus\n",
    "import logging"
   ]
  },
  {
   "cell_type": "code",
   "execution_count": 3,
   "metadata": {},
   "outputs": [],
   "source": [
    "logging.basicConfig(format='%(asctime)s: %(levelname)s: %(message)s')\n",
    "logging.root.setLevel(level=logging.INFO)"
   ]
  },
  {
   "cell_type": "code",
   "execution_count": 2,
   "metadata": {},
   "outputs": [],
   "source": [
    "model = Word2Vec.load('WikiModelBigram.model')"
   ]
  },
  {
   "cell_type": "code",
   "execution_count": 5,
   "metadata": {},
   "outputs": [
    {
     "name": "stderr",
     "output_type": "stream",
     "text": [
      "/Users/stefanoraimondousai/opt/anaconda3/lib/python3.7/site-packages/ipykernel_launcher.py:1: DeprecationWarning: Call to deprecated `__getitem__` (Method will be removed in 4.0.0, use self.wv.__getitem__() instead).\n",
      "  \"\"\"Entry point for launching an IPython kernel.\n",
      "/Users/stefanoraimondousai/opt/anaconda3/lib/python3.7/site-packages/ipykernel_launcher.py:1: DeprecationWarning: Call to deprecated `similar_by_vector` (Method will be removed in 4.0.0, use self.wv.similar_by_vector() instead).\n",
      "  \"\"\"Entry point for launching an IPython kernel.\n",
      "2020-03-17 15:17:53,192: INFO: precomputing L2-norms of word weight vectors\n"
     ]
    },
    {
     "data": {
      "text/plain": [
       "[('italia', 0.8325998783111572),\n",
       " ('francia', 0.6539333462715149),\n",
       " ('germania', 0.5971959233283997),\n",
       " ('spagna', 0.5787288546562195),\n",
       " ('spagna_portogallo', 0.5383888483047485),\n",
       " ('danimarca_finlandia', 0.5308465957641602),\n",
       " ('gran_bretagna', 0.5238630771636963),\n",
       " ('svezia_norvegia', 0.5211857557296753),\n",
       " ('europa', 0.5158562064170837),\n",
       " ('lussemburgo_norvegia', 0.5084389448165894)]"
      ]
     },
     "execution_count": 5,
     "metadata": {},
     "output_type": "execute_result"
    }
   ],
   "source": [
    "model.similar_by_vector(model['francia'] - model['parigi'] + model['italia'])"
   ]
  },
  {
   "cell_type": "code",
   "execution_count": 6,
   "metadata": {},
   "outputs": [
    {
     "name": "stderr",
     "output_type": "stream",
     "text": [
      "/Users/stefanoraimondousai/opt/anaconda3/lib/python3.7/site-packages/ipykernel_launcher.py:1: DeprecationWarning: Call to deprecated `__getitem__` (Method will be removed in 4.0.0, use self.wv.__getitem__() instead).\n",
      "  \"\"\"Entry point for launching an IPython kernel.\n"
     ]
    },
    {
     "data": {
      "text/plain": [
       "[('italia', 0.8325998783111572),\n",
       " ('francia', 0.6539333462715149),\n",
       " ('germania', 0.5971959233283997),\n",
       " ('spagna', 0.5787288546562195),\n",
       " ('spagna_portogallo', 0.5383888483047485),\n",
       " ('danimarca_finlandia', 0.5308465957641602),\n",
       " ('gran_bretagna', 0.5238630771636963),\n",
       " ('svezia_norvegia', 0.5211857557296753),\n",
       " ('europa', 0.5158562064170837),\n",
       " ('lussemburgo_norvegia', 0.5084389448165894)]"
      ]
     },
     "execution_count": 6,
     "metadata": {},
     "output_type": "execute_result"
    }
   ],
   "source": [
    "model.wv.similar_by_vector(model['francia'] - model['parigi'] + model['italia'])"
   ]
  },
  {
   "cell_type": "code",
   "execution_count": 9,
   "metadata": {},
   "outputs": [
    {
     "data": {
      "text/plain": [
       "[('stai', 0.00013460535),\n",
       " ('singolo', 7.4015006e-05),\n",
       " ('tu', 7.3133124e-05),\n",
       " ('dimmi', 6.435023e-05),\n",
       " ('te', 5.6950255e-05),\n",
       " ('estratto', 5.4843404e-05),\n",
       " ('se_fossimo', 4.9634273e-05),\n",
       " ('ci_sentiamo', 4.9418337e-05),\n",
       " ('quarto_estratto', 4.709665e-05),\n",
       " ('brano_musicale', 4.5991408e-05)]"
      ]
     },
     "execution_count": 9,
     "metadata": {},
     "output_type": "execute_result"
    }
   ],
   "source": [
    "model.predict_output_word(['come', 'stai'])"
   ]
  },
  {
   "cell_type": "code",
   "execution_count": 15,
   "metadata": {},
   "outputs": [
    {
     "data": {
      "text/plain": [
       "1226195"
      ]
     },
     "execution_count": 15,
     "metadata": {},
     "output_type": "execute_result"
    }
   ],
   "source": [
    "len(list(model.wv.vocab))"
   ]
  },
  {
   "cell_type": "code",
   "execution_count": 12,
   "metadata": {},
   "outputs": [],
   "source": [
    "w2c = dict()\n",
    "for item in model.wv.vocab:\n",
    "    w2c[item]=model.wv.vocab[item].count"
   ]
  },
  {
   "cell_type": "code",
   "execution_count": 13,
   "metadata": {},
   "outputs": [],
   "source": [
    "w2cSorted=dict(sorted(w2c.items(), key=lambda x: x[1],reverse=True))"
   ]
  },
  {
   "cell_type": "code",
   "execution_count": 14,
   "metadata": {},
   "outputs": [],
   "source": [
    "keys=w2cSorted.keys()"
   ]
  },
  {
   "cell_type": "code",
   "execution_count": 16,
   "metadata": {},
   "outputs": [
    {
     "data": {
      "text/plain": [
       "1226195"
      ]
     },
     "execution_count": 16,
     "metadata": {},
     "output_type": "execute_result"
    }
   ],
   "source": [
    "len(w2cSorted)"
   ]
  },
  {
   "cell_type": "code",
   "execution_count": 30,
   "metadata": {},
   "outputs": [
    {
     "name": "stdout",
     "output_type": "stream",
     "text": [
      "antioco_iv 152\n"
     ]
    }
   ],
   "source": [
    "for i,k in enumerate(w2cSorted.keys()):\n",
    "    if i == 90000:\n",
    "        print(k, w2cSorted[k])\n",
    "    "
   ]
  },
  {
   "cell_type": "code",
   "execution_count": 24,
   "metadata": {},
   "outputs": [
    {
     "name": "stderr",
     "output_type": "stream",
     "text": [
      "/Users/stefanoraimondousai/opt/anaconda3/lib/python3.7/site-packages/ipykernel_launcher.py:1: DeprecationWarning: Call to deprecated `__getitem__` (Method will be removed in 4.0.0, use self.wv.__getitem__() instead).\n",
      "  \"\"\"Entry point for launching an IPython kernel.\n"
     ]
    },
    {
     "data": {
      "text/plain": [
       "array([ 1.29385978e-01, -2.00956255e-01,  1.31440282e-01,  3.44419926e-01,\n",
       "       -7.63560981e-02, -2.84689963e-01,  3.00970208e-02, -4.30067629e-02,\n",
       "        9.25298929e-02, -2.49737620e-01,  7.60247335e-02,  1.00215182e-01,\n",
       "       -5.98071277e-01, -8.29017684e-02,  1.96962878e-01, -7.46187381e-03,\n",
       "        1.51063791e-02,  1.69075280e-01,  3.18542719e-01, -3.98270428e-01,\n",
       "       -1.63294479e-01,  5.93205273e-01,  7.32415542e-02,  3.79010737e-01,\n",
       "       -5.63586593e-01, -1.31342128e-01,  1.77492902e-01,  1.27152801e-01,\n",
       "       -2.46497557e-01,  9.17356759e-02, -2.65981197e-01,  1.44134238e-01,\n",
       "       -1.09405831e-01,  4.31031674e-01, -8.59246790e-01, -8.44897777e-02,\n",
       "       -6.23856820e-02, -7.42190331e-02, -3.82838070e-01,  3.66805285e-01,\n",
       "       -3.81852478e-01,  5.81135973e-04, -4.55963723e-02,  1.19008467e-01,\n",
       "        5.56118079e-02, -1.20838173e-02,  4.08752918e-01, -4.22271192e-01,\n",
       "       -3.09862077e-01,  6.67145967e-01,  2.91559517e-01,  3.51454079e-01,\n",
       "       -2.35947326e-01, -2.06192300e-01,  4.34223741e-01,  1.82862997e-01,\n",
       "       -2.55741835e-01,  1.41227379e-01, -5.05384617e-02, -2.64463760e-02,\n",
       "       -2.37797827e-01,  2.16054562e-02, -3.53090428e-02,  1.51979998e-01,\n",
       "       -2.36282453e-01, -6.27660632e-01, -1.78631723e-01, -7.68591538e-02,\n",
       "       -1.71215639e-01,  1.54994413e-01,  2.65960306e-01,  2.50145584e-01,\n",
       "        4.92954366e-02,  5.18358827e-01,  1.05637863e-01,  2.66880076e-02,\n",
       "       -3.06886230e-02, -6.16920777e-02,  6.27502054e-02,  6.75186068e-02,\n",
       "        6.49006143e-02, -5.32093532e-02, -4.98072237e-01,  2.28751883e-01,\n",
       "       -1.77585185e-01, -2.82643050e-01, -1.14227675e-01,  4.29039560e-02,\n",
       "       -1.51791153e-02, -6.80444092e-02, -3.96338433e-01,  1.25780448e-01,\n",
       "        4.67550784e-01, -1.66672021e-01, -1.39829114e-01,  4.51409630e-02,\n",
       "       -3.84883165e-01, -4.27079558e-01, -2.27968588e-01, -1.81340039e-01,\n",
       "       -5.10493219e-02, -2.82505006e-01, -8.51076841e-02, -3.57549548e-01,\n",
       "       -3.85695547e-01,  1.75727665e-01, -4.64557968e-02,  3.51974189e-01,\n",
       "       -2.37302214e-01,  6.89393058e-02,  1.69978917e-01,  2.00448990e-01,\n",
       "        2.34788701e-01, -3.13797504e-01,  1.98172033e-01,  4.24694680e-02,\n",
       "       -8.74300525e-02, -3.38590086e-01, -1.33709565e-01,  3.76546825e-03,\n",
       "        1.60962284e-01, -3.47827256e-01, -1.03963567e-02, -1.48332477e-01,\n",
       "        1.55862361e-01, -5.98416924e-01,  3.01193058e-01,  2.27057219e-01,\n",
       "        3.42660129e-01, -6.39204919e-01,  5.28089143e-02, -6.39054835e-01,\n",
       "        6.51740789e-01,  2.32250333e-01, -4.25269514e-01,  3.96753140e-02,\n",
       "        3.48664880e-01,  1.56583086e-01, -3.63887623e-02,  9.58777368e-02,\n",
       "        3.37259211e-02,  2.50316978e-01, -2.71213621e-01,  3.71568501e-01,\n",
       "       -3.02660763e-01,  2.92892098e-01, -1.01954326e-01, -4.47100729e-01,\n",
       "        2.56416112e-01, -3.45613033e-01, -4.30503935e-02,  9.58063230e-02,\n",
       "        2.00618595e-01, -1.11174770e-01,  1.60290986e-01, -3.21643680e-01,\n",
       "       -2.77837962e-01, -1.65756226e-01, -4.72575307e-01,  8.79787654e-02,\n",
       "        2.38969997e-01,  2.06406981e-01,  7.68879354e-02, -5.13587058e-01,\n",
       "       -1.39307141e-01,  3.60037126e-02,  1.34053871e-01, -3.79056156e-01,\n",
       "        1.28643766e-01,  3.55581269e-02, -4.49370831e-01,  1.55627415e-01,\n",
       "        7.32110813e-02,  4.49494928e-01,  1.35264462e-02,  4.24237639e-01,\n",
       "       -2.05691278e-01, -4.85840663e-02, -6.04100013e-03,  3.52576235e-03,\n",
       "       -7.14027762e-01,  2.62176603e-01,  1.09314539e-01, -2.61447787e-01,\n",
       "       -4.40668985e-02,  2.09263086e-01,  4.88557994e-01,  5.09537384e-02,\n",
       "       -5.79457637e-03,  2.10665986e-02,  6.72725365e-02, -2.37072594e-02,\n",
       "        3.22261363e-01, -1.93681289e-02, -5.47536910e-01, -2.91476339e-01,\n",
       "        1.24078020e-01,  4.25047502e-02,  2.66291708e-01, -1.05712712e-01,\n",
       "       -1.37570217e-01, -2.13038176e-01,  6.21456951e-02, -4.02410805e-01,\n",
       "       -1.73811629e-01, -1.79454967e-01,  2.82080501e-01, -3.94075543e-01,\n",
       "       -2.83838421e-01,  2.56425381e-01, -2.60343492e-01,  8.99811611e-02,\n",
       "       -4.37086284e-01,  2.19549894e-01,  3.18302006e-01, -1.24170423e-01,\n",
       "       -4.72058862e-01, -2.70761490e-01,  4.39294159e-01,  7.54280090e-02,\n",
       "       -7.90509954e-03,  8.25949609e-02, -2.10690722e-01, -7.11092129e-02,\n",
       "        2.37431109e-01, -6.85630068e-02,  3.74966651e-01, -1.28328055e-01,\n",
       "       -1.11283891e-01,  2.05858782e-01,  1.76243801e-02, -1.37851894e-01,\n",
       "        7.13882968e-02, -7.82013386e-02,  2.66050816e-01, -1.56687617e-01,\n",
       "       -5.26071601e-02,  1.68534517e-01,  1.48790359e-01,  3.80478859e-01,\n",
       "        3.78764868e-01,  1.90472543e-01,  1.81409670e-03, -1.56302437e-01,\n",
       "       -2.10065976e-01, -3.46908644e-02, -1.13634527e-01,  2.70446807e-01,\n",
       "       -1.34867176e-01,  4.43059087e-01,  3.69949043e-01, -7.00137839e-02,\n",
       "       -1.81204423e-01,  6.35820180e-02, -1.36445016e-01,  3.61239940e-01,\n",
       "       -4.53843743e-01, -3.70394498e-01,  1.86084881e-01, -1.26435027e-01,\n",
       "       -1.20184176e-01, -2.11735994e-01,  2.51234204e-01, -1.15615316e-01,\n",
       "       -4.00110751e-01, -4.30590838e-01, -5.65945916e-02,  7.74195641e-02,\n",
       "        3.56588304e-01, -1.47872055e-02,  2.01039314e-01,  1.19896792e-02,\n",
       "       -6.07177913e-02, -2.29836449e-01,  2.59724677e-01,  1.66470453e-01,\n",
       "        8.21874514e-02, -1.55405283e-01,  2.44746074e-01, -2.90899396e-01,\n",
       "       -3.40133071e-01, -2.48953536e-01, -2.11582035e-01,  4.36316103e-01,\n",
       "       -1.06480001e-02,  1.99120238e-01,  5.42626455e-02, -1.65960401e-01,\n",
       "       -6.61085844e-02, -1.94216624e-01, -5.55406809e-01,  4.89410199e-02,\n",
       "       -4.47575748e-02,  3.87877107e-01, -4.06691525e-03, -1.23933451e-02,\n",
       "        1.03422202e-01, -1.16542578e-01,  3.19999546e-01,  2.41969809e-01],\n",
       "      dtype=float32)"
      ]
     },
     "execution_count": 24,
     "metadata": {},
     "output_type": "execute_result"
    }
   ],
   "source": [
    "model['navigazione']"
   ]
  },
  {
   "cell_type": "code",
   "execution_count": null,
   "metadata": {},
   "outputs": [],
   "source": []
  }
 ],
 "metadata": {
  "kernelspec": {
   "display_name": "Python 3",
   "language": "python",
   "name": "python3"
  },
  "language_info": {
   "codemirror_mode": {
    "name": "ipython",
    "version": 3
   },
   "file_extension": ".py",
   "mimetype": "text/x-python",
   "name": "python",
   "nbconvert_exporter": "python",
   "pygments_lexer": "ipython3",
   "version": "3.7.4"
  }
 },
 "nbformat": 4,
 "nbformat_minor": 4
}

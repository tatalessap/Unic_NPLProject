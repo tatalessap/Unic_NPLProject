{
 "cells": [
  {
   "cell_type": "code",
   "execution_count": 13,
   "metadata": {},
   "outputs": [],
   "source": [
    "import gensim\n",
    "from gensim.corpora.wikicorpus import WikiCorpus\n",
    "from gensim.models import Phrases, TfidfModel\n",
    "from gensim.models.phrases import Phraser\n",
    "from gensim.test.utils import datapath \n",
    "from gensim.models.word2vec import Word2Vec, Text8Corpus\n",
    "import logging"
   ]
  },
  {
   "cell_type": "code",
   "execution_count": 9,
   "metadata": {},
   "outputs": [],
   "source": [
    "logging.basicConfig(format='%(asctime)s: %(levelname)s: %(message)s')\n",
    "logging.root.setLevel(level=logging.INFO)"
   ]
  },
  {
   "cell_type": "code",
   "execution_count": 37,
   "metadata": {},
   "outputs": [],
   "source": [
    "path = '/Users/stefanoraimondousai/Documents/ReadingCourse/wiki_slim.txt'\n",
    "sentences = Text8Corpus(datapath(path))"
   ]
  },
  {
   "cell_type": "code",
   "execution_count": 38,
   "metadata": {},
   "outputs": [
    {
     "name": "stderr",
     "output_type": "stream",
     "text": [
      "2020-03-13 01:03:57,561: INFO: collecting all words and their counts\n",
      "2020-03-13 01:03:57,569: INFO: PROGRESS: at sentence #0, processed 0 words and 0 word types\n",
      "2020-03-13 01:04:55,827: INFO: collected 10704833 word types from a corpus of 30436010 words (unigram + bigrams) and 3044 sentences\n",
      "2020-03-13 01:04:55,833: INFO: using 10704833 counts as vocab in Phrases<0 vocab, min_count=5, threshold=10.0, max_vocab_size=40000000>\n"
     ]
    }
   ],
   "source": [
    "ngram=Phrases(sentences)"
   ]
  },
  {
   "cell_type": "code",
   "execution_count": 39,
   "metadata": {},
   "outputs": [
    {
     "name": "stderr",
     "output_type": "stream",
     "text": [
      "2020-03-13 01:04:55,838: INFO: source_vocab length 10704833\n",
      "2020-03-13 01:05:04,055: INFO: Phraser added 50000 phrasegrams\n",
      "2020-03-13 01:05:25,486: INFO: Phraser added 100000 phrasegrams\n",
      "2020-03-13 01:06:31,435: INFO: Phraser built with 119327 phrasegrams\n"
     ]
    }
   ],
   "source": [
    "phraser = Phraser(ngram)"
   ]
  },
  {
   "cell_type": "code",
   "execution_count": 40,
   "metadata": {},
   "outputs": [
    {
     "name": "stderr",
     "output_type": "stream",
     "text": [
      "2020-03-13 01:06:31,444: INFO: collecting all words and their counts\n",
      "2020-03-13 01:06:31,468: INFO: PROGRESS: at sentence #0, processed 0 words and 0 word types\n",
      "2020-03-13 01:08:25,545: INFO: collected 12701062 word types from a corpus of 26580194 words (unigram + bigrams) and 3044 sentences\n",
      "2020-03-13 01:08:25,554: INFO: using 12701062 counts as vocab in Phrases<0 vocab, min_count=5, threshold=10.0, max_vocab_size=40000000>\n"
     ]
    }
   ],
   "source": [
    "ngram = Phrases(phraser[sentences])"
   ]
  },
  {
   "cell_type": "code",
   "execution_count": 41,
   "metadata": {},
   "outputs": [
    {
     "name": "stderr",
     "output_type": "stream",
     "text": [
      "2020-03-13 01:08:26,768: INFO: source_vocab length 12701062\n",
      "2020-03-13 01:08:30,319: INFO: Phraser added 50000 phrasegrams\n",
      "2020-03-13 01:08:34,511: INFO: Phraser added 100000 phrasegrams\n",
      "2020-03-13 01:08:40,584: INFO: Phraser added 150000 phrasegrams\n",
      "2020-03-13 01:08:49,855: INFO: Phraser added 200000 phrasegrams\n",
      "2020-03-13 01:09:06,946: INFO: Phraser added 250000 phrasegrams\n",
      "2020-03-13 01:10:43,044: INFO: Phraser built with 298254 phrasegrams\n"
     ]
    }
   ],
   "source": [
    "phraser=Phraser(ngram)"
   ]
  },
  {
   "cell_type": "code",
   "execution_count": 42,
   "metadata": {},
   "outputs": [],
   "source": [
    "import re\n",
    "with open('trigramWikiSlim.txt','w') as outfile:\n",
    "    for sent in sentences:\n",
    "        tokens_ = phraser[sent]\n",
    "        outfile.write(\"%s\\n\" % re.sub(\"[\\'\\[\\]\\,]\", \"\",str(tokens_)))"
   ]
  },
  {
   "cell_type": "code",
   "execution_count": null,
   "metadata": {
    "scrolled": true
   },
   "outputs": [],
   "source": [
    "model = Word2Vec(phraser[sentences], \n",
    "                 min_count=3,   # Ignore words that appear less than this\n",
    "                 size=300,      # Dimensionality of word embeddings\n",
    "                 workers=4,     # Number of processors (parallelisation)\n",
    "                 window=5,      # Context window for words during training\n",
    "                 iter=5,\n",
    "                 sg=1)        # Number of epochs training over corpus"
   ]
  },
  {
   "cell_type": "code",
   "execution_count": null,
   "metadata": {},
   "outputs": [],
   "source": []
  },
  {
   "cell_type": "code",
   "execution_count": 36,
   "metadata": {},
   "outputs": [],
   "source": [
    "del sentences\n",
    "del ngram\n",
    "del phraser"
   ]
  },
  {
   "cell_type": "code",
   "execution_count": null,
   "metadata": {},
   "outputs": [],
   "source": []
  },
  {
   "cell_type": "code",
   "execution_count": 25,
   "metadata": {},
   "outputs": [
    {
     "name": "stderr",
     "output_type": "stream",
     "text": [
      "2020-03-13 00:43:51,056: INFO: saving Word2Vec object under WikiModelItaSlim.model, separately None\n",
      "2020-03-13 00:43:51,057: INFO: storing np array 'vectors' to WikiModelItaSlim.model.wv.vectors.npy\n",
      "2020-03-13 00:43:52,297: INFO: not storing attribute vectors_norm\n",
      "2020-03-13 00:43:52,298: INFO: storing np array 'syn1neg' to WikiModelItaSlim.model.trainables.syn1neg.npy\n",
      "2020-03-13 00:43:53,532: INFO: not storing attribute cum_table\n",
      "2020-03-13 00:43:54,425: INFO: saved WikiModelItaSlim.model\n"
     ]
    }
   ],
   "source": [
    "model.save('WikiModelItaSlim.model')"
   ]
  },
  {
   "cell_type": "code",
   "execution_count": 26,
   "metadata": {},
   "outputs": [
    {
     "name": "stderr",
     "output_type": "stream",
     "text": [
      "/Users/stefanoraimondousai/opt/anaconda3/lib/python3.7/site-packages/ipykernel_launcher.py:1: DeprecationWarning: Call to deprecated `most_similar` (Method will be removed in 4.0.0, use self.wv.most_similar() instead).\n",
      "  \"\"\"Entry point for launching an IPython kernel.\n",
      "2020-03-13 00:44:06,626: INFO: precomputing L2-norms of word weight vectors\n"
     ]
    },
    {
     "data": {
      "text/plain": [
       "[(':)', 0.9392555952072144),\n",
       " ('grazie.', 0.9346376657485962),\n",
       " (':-)', 0.933768630027771),\n",
       " ('ciao,', 0.9324568510055542),\n",
       " ('ciao!', 0.9109267592430115),\n",
       " ('2005_(cest)', 0.9018099904060364),\n",
       " ('ciao.', 0.8992548584938049),\n",
       " ('2004_(utc)', 0.8964660167694092),\n",
       " ('(utc)', 0.8938655853271484),\n",
       " ('ok,', 0.8921703100204468)]"
      ]
     },
     "execution_count": 26,
     "metadata": {},
     "output_type": "execute_result"
    }
   ],
   "source": [
    "model.most_similar('ciao')"
   ]
  },
  {
   "cell_type": "code",
   "execution_count": 29,
   "metadata": {},
   "outputs": [
    {
     "data": {
      "text/plain": [
       "[('più_popolosa', 0.0048553995),\n",
       " ('del_messico', 0.002791965),\n",
       " ('cina', 0.0025693856),\n",
       " ('capitale', 0.0020230694),\n",
       " ('più_grande', 0.0018823635),\n",
       " ('moldavia', 0.0016764032),\n",
       " ('repubblica', 0.0015376823),\n",
       " ('divisa_tra', 0.0013559225),\n",
       " ('germania.', 0.00094312476),\n",
       " ('svizzera,', 0.000838515)]"
      ]
     },
     "execution_count": 29,
     "metadata": {},
     "output_type": "execute_result"
    }
   ],
   "source": [
    "model.predict_output_word([\"l'italia\",'è','la','capitale'])"
   ]
  },
  {
   "cell_type": "code",
   "execution_count": 34,
   "metadata": {},
   "outputs": [
    {
     "data": {
      "text/plain": [
       "[('papa_clemente', 0.10156507),\n",
       " ('papa_alessandro', 0.08318469),\n",
       " ('papa_paolo', 0.080565795),\n",
       " ('papa_innocenzo', 0.071060896),\n",
       " ('scomunica', 0.060936455),\n",
       " ('papa_leone', 0.052851405),\n",
       " ('papa_urbano', 0.039037954),\n",
       " ('papa_pio', 0.035492465),\n",
       " ('pontefice,', 0.02253196),\n",
       " ('patriarca', 0.021794304)]"
      ]
     },
     "execution_count": 34,
     "metadata": {},
     "output_type": "execute_result"
    }
   ],
   "source": [
    "model.predict_output_word(['papa'])"
   ]
  },
  {
   "cell_type": "code",
   "execution_count": null,
   "metadata": {},
   "outputs": [],
   "source": []
  },
  {
   "cell_type": "code",
   "execution_count": null,
   "metadata": {},
   "outputs": [],
   "source": []
  },
  {
   "cell_type": "code",
   "execution_count": null,
   "metadata": {},
   "outputs": [],
   "source": []
  },
  {
   "cell_type": "code",
   "execution_count": null,
   "metadata": {},
   "outputs": [],
   "source": []
  },
  {
   "cell_type": "code",
   "execution_count": null,
   "metadata": {},
   "outputs": [],
   "source": []
  },
  {
   "cell_type": "code",
   "execution_count": null,
   "metadata": {},
   "outputs": [],
   "source": []
  },
  {
   "cell_type": "code",
   "execution_count": null,
   "metadata": {},
   "outputs": [],
   "source": []
  }
 ],
 "metadata": {
  "kernelspec": {
   "display_name": "Python 3",
   "language": "python",
   "name": "python3"
  },
  "language_info": {
   "codemirror_mode": {
    "name": "ipython",
    "version": 3
   },
   "file_extension": ".py",
   "mimetype": "text/x-python",
   "name": "python",
   "nbconvert_exporter": "python",
   "pygments_lexer": "ipython3",
   "version": "3.7.4"
  }
 },
 "nbformat": 4,
 "nbformat_minor": 4
}

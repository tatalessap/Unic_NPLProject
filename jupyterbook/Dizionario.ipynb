{
 "cells": [
  {
   "cell_type": "code",
   "execution_count": 1,
   "metadata": {},
   "outputs": [],
   "source": [
    "import gensim\n",
    "from gensim.corpora.wikicorpus import WikiCorpus\n",
    "from gensim.models import Phrases, TfidfModel\n",
    "from gensim.models.phrases import Phraser\n",
    "from gensim.test.utils import datapath \n",
    "from gensim.models.word2vec import Word2Vec, Text8Corpus\n",
    "import logging"
   ]
  },
  {
   "cell_type": "code",
   "execution_count": null,
   "metadata": {},
   "outputs": [],
   "source": []
  },
  {
   "cell_type": "code",
   "execution_count": null,
   "metadata": {},
   "outputs": [],
   "source": []
  },
  {
   "cell_type": "code",
   "execution_count": 2,
   "metadata": {},
   "outputs": [],
   "source": [
    "logging.basicConfig(format='%(asctime)s: %(levelname)s: %(message)s')\n",
    "logging.root.setLevel(level=logging.INFO)"
   ]
  },
  {
   "cell_type": "code",
   "execution_count": 3,
   "metadata": {},
   "outputs": [
    {
     "name": "stderr",
     "output_type": "stream",
     "text": [
      "2020-03-19 15:01:36,160: INFO: loading Word2Vec object from WikiModelmono1epoch.model\n",
      "2020-03-19 15:01:37,615: INFO: loading wv recursively from WikiModelmono1epoch.model.wv.* with mmap=None\n",
      "2020-03-19 15:01:37,616: INFO: loading vectors from WikiModelmono1epoch.model.wv.vectors.npy with mmap=None\n",
      "2020-03-19 15:01:38,641: INFO: setting ignored attribute vectors_norm to None\n",
      "2020-03-19 15:01:38,642: INFO: loading vocabulary recursively from WikiModelmono1epoch.model.vocabulary.* with mmap=None\n",
      "2020-03-19 15:01:38,642: INFO: loading trainables recursively from WikiModelmono1epoch.model.trainables.* with mmap=None\n",
      "2020-03-19 15:01:38,643: INFO: loading syn1neg from WikiModelmono1epoch.model.trainables.syn1neg.npy with mmap=None\n",
      "2020-03-19 15:01:39,344: INFO: setting ignored attribute cum_table to None\n",
      "2020-03-19 15:01:39,345: INFO: loaded WikiModelmono1epoch.model\n"
     ]
    }
   ],
   "source": [
    "model = Word2Vec.load('WikiModelmono1epoch.model')"
   ]
  },
  {
   "cell_type": "code",
   "execution_count": 4,
   "metadata": {},
   "outputs": [
    {
     "data": {
      "text/plain": [
       "647738"
      ]
     },
     "execution_count": 4,
     "metadata": {},
     "output_type": "execute_result"
    }
   ],
   "source": [
    "len(list(model.wv.vocab))"
   ]
  },
  {
   "cell_type": "code",
   "execution_count": 5,
   "metadata": {},
   "outputs": [],
   "source": [
    "w2c = dict()\n",
    "for item in model.wv.vocab:\n",
    "    w2c[item]=model.wv.vocab[item].count"
   ]
  },
  {
   "cell_type": "code",
   "execution_count": 6,
   "metadata": {},
   "outputs": [],
   "source": [
    "w2cSorted=dict(sorted(w2c.items(), key=lambda x: x[1],reverse=True))"
   ]
  },
  {
   "cell_type": "code",
   "execution_count": 7,
   "metadata": {},
   "outputs": [],
   "source": [
    "keys=w2c.keys()"
   ]
  },
  {
   "cell_type": "code",
   "execution_count": 8,
   "metadata": {},
   "outputs": [],
   "source": [
    "keys=w2cSorted.keys()"
   ]
  },
  {
   "cell_type": "code",
   "execution_count": 9,
   "metadata": {},
   "outputs": [],
   "source": [
    "listkey=list(keys)[0:200000]"
   ]
  },
  {
   "cell_type": "code",
   "execution_count": 10,
   "metadata": {},
   "outputs": [],
   "source": [
    "listkey=set(listkey)"
   ]
  },
  {
   "cell_type": "code",
   "execution_count": 11,
   "metadata": {},
   "outputs": [
    {
     "name": "stdout",
     "output_type": "stream",
     "text": [
      "bbe 35\n"
     ]
    }
   ],
   "source": [
    "for i,k in enumerate(w2cSorted.keys()):\n",
    "    if i == 200000:\n",
    "        print(k, w2cSorted[k])\n",
    "    "
   ]
  },
  {
   "cell_type": "code",
   "execution_count": 37,
   "metadata": {},
   "outputs": [],
   "source": [
    "term_index = gensim.models.WordEmbeddingSimilarityIndex(model.wv)"
   ]
  },
  {
   "cell_type": "code",
   "execution_count": 18,
   "metadata": {},
   "outputs": [],
   "source": [
    "common_text=Text8Corpus(datapath('WikiItaliaGennaio2019.txt'))"
   ]
  },
  {
   "cell_type": "code",
   "execution_count": 28,
   "metadata": {},
   "outputs": [],
   "source": [
    "token=[]\n",
    "for word in model.wv.index2word:\n",
    "    token.append(str(word))"
   ]
  },
  {
   "cell_type": "code",
   "execution_count": 30,
   "metadata": {},
   "outputs": [
    {
     "name": "stderr",
     "output_type": "stream",
     "text": [
      "2020-03-19 15:12:37,953: INFO: adding document #0 to Dictionary(0 unique tokens: [])\n",
      "2020-03-19 15:12:42,568: INFO: built Dictionary(647738 unique tokens: ['0', '00', '000', '0000', '00000']...) from 1 documents (total 647738 corpus positions)\n"
     ]
    }
   ],
   "source": [
    "dictionary=gensim.corpora.Dictionary([token])"
   ]
  },
  {
   "cell_type": "code",
   "execution_count": 32,
   "metadata": {},
   "outputs": [],
   "source": [
    "bow_corpus = [dictionary.doc2bow(document) for document in [token]]"
   ]
  },
  {
   "cell_type": "code",
   "execution_count": 46,
   "metadata": {},
   "outputs": [],
   "source": [
    "similarity_matrix = gensim.similarities.LevenshteinSimilarityIndex(dictionary)  "
   ]
  },
  {
   "cell_type": "code",
   "execution_count": 47,
   "metadata": {},
   "outputs": [
    {
     "ename": "ModuleNotFoundError",
     "evalue": "No module named 'Levenshtein'",
     "output_type": "error",
     "traceback": [
      "\u001b[0;31m---------------------------------------------------------------------------\u001b[0m",
      "\u001b[0;31mModuleNotFoundError\u001b[0m                       Traceback (most recent call last)",
      "\u001b[0;32m<ipython-input-47-1fc4a9cd98bf>\u001b[0m in \u001b[0;36m<module>\u001b[0;34m\u001b[0m\n\u001b[0;32m----> 1\u001b[0;31m \u001b[0msimilarity_matrix\u001b[0m\u001b[0;34m.\u001b[0m\u001b[0mmost_similar\u001b[0m\u001b[0;34m(\u001b[0m\u001b[0;34m'ciao'\u001b[0m\u001b[0;34m,\u001b[0m\u001b[0;34m'miao'\u001b[0m\u001b[0;34m)\u001b[0m\u001b[0;34m\u001b[0m\u001b[0;34m\u001b[0m\u001b[0m\n\u001b[0m",
      "\u001b[0;32m~/opt/anaconda3/lib/python3.7/site-packages/gensim/similarities/levenshtein.py\u001b[0m in \u001b[0;36mmost_similar\u001b[0;34m(self, t1, topn)\u001b[0m\n\u001b[1;32m    148\u001b[0m         most_similar = (\n\u001b[1;32m    149\u001b[0m             \u001b[0;34m(\u001b[0m\u001b[0mt2\u001b[0m\u001b[0;34m,\u001b[0m \u001b[0msimilarity\u001b[0m\u001b[0;34m)\u001b[0m\u001b[0;34m\u001b[0m\u001b[0;34m\u001b[0m\u001b[0m\n\u001b[0;32m--> 150\u001b[0;31m             \u001b[0;32mfor\u001b[0m \u001b[0;34m(\u001b[0m\u001b[0msimilarity\u001b[0m\u001b[0;34m,\u001b[0m \u001b[0mt2\u001b[0m\u001b[0;34m)\u001b[0m \u001b[0;32min\u001b[0m \u001b[0msorted\u001b[0m\u001b[0;34m(\u001b[0m\u001b[0msimilarities\u001b[0m\u001b[0;34m,\u001b[0m \u001b[0mreverse\u001b[0m\u001b[0;34m=\u001b[0m\u001b[0;32mTrue\u001b[0m\u001b[0;34m)\u001b[0m\u001b[0;34m\u001b[0m\u001b[0;34m\u001b[0m\u001b[0m\n\u001b[0m\u001b[1;32m    151\u001b[0m             \u001b[0;32mif\u001b[0m \u001b[0msimilarity\u001b[0m \u001b[0;34m>\u001b[0m \u001b[0;36m0\u001b[0m\u001b[0;34m\u001b[0m\u001b[0;34m\u001b[0m\u001b[0m\n\u001b[1;32m    152\u001b[0m         )\n",
      "\u001b[0;32m~/opt/anaconda3/lib/python3.7/site-packages/gensim/similarities/levenshtein.py\u001b[0m in \u001b[0;36m<genexpr>\u001b[0;34m(.0)\u001b[0m\n\u001b[1;32m    144\u001b[0m             \u001b[0;34m(\u001b[0m\u001b[0mlevsim\u001b[0m\u001b[0;34m(\u001b[0m\u001b[0mt1\u001b[0m\u001b[0;34m,\u001b[0m \u001b[0mt2\u001b[0m\u001b[0;34m,\u001b[0m \u001b[0mself\u001b[0m\u001b[0;34m.\u001b[0m\u001b[0malpha\u001b[0m\u001b[0;34m,\u001b[0m \u001b[0mself\u001b[0m\u001b[0;34m.\u001b[0m\u001b[0mbeta\u001b[0m\u001b[0;34m,\u001b[0m \u001b[0mself\u001b[0m\u001b[0;34m.\u001b[0m\u001b[0mthreshold\u001b[0m\u001b[0;34m)\u001b[0m\u001b[0;34m,\u001b[0m \u001b[0mt2\u001b[0m\u001b[0;34m)\u001b[0m\u001b[0;34m\u001b[0m\u001b[0;34m\u001b[0m\u001b[0m\n\u001b[1;32m    145\u001b[0m             \u001b[0;32mfor\u001b[0m \u001b[0mt2\u001b[0m \u001b[0;32min\u001b[0m \u001b[0mself\u001b[0m\u001b[0;34m.\u001b[0m\u001b[0mdictionary\u001b[0m\u001b[0;34m.\u001b[0m\u001b[0mvalues\u001b[0m\u001b[0;34m(\u001b[0m\u001b[0;34m)\u001b[0m\u001b[0;34m\u001b[0m\u001b[0;34m\u001b[0m\u001b[0m\n\u001b[0;32m--> 146\u001b[0;31m             \u001b[0;32mif\u001b[0m \u001b[0mt1\u001b[0m \u001b[0;34m!=\u001b[0m \u001b[0mt2\u001b[0m\u001b[0;34m\u001b[0m\u001b[0;34m\u001b[0m\u001b[0m\n\u001b[0m\u001b[1;32m    147\u001b[0m         )\n\u001b[1;32m    148\u001b[0m         most_similar = (\n",
      "\u001b[0;32m~/opt/anaconda3/lib/python3.7/site-packages/gensim/similarities/levenshtein.py\u001b[0m in \u001b[0;36mlevsim\u001b[0;34m(t1, t2, alpha, beta, min_similarity)\u001b[0m\n\u001b[1;32m     97\u001b[0m     \u001b[0mmin_similarity\u001b[0m \u001b[0;34m=\u001b[0m \u001b[0mfloat\u001b[0m\u001b[0;34m(\u001b[0m\u001b[0mmax\u001b[0m\u001b[0;34m(\u001b[0m\u001b[0mmin\u001b[0m\u001b[0;34m(\u001b[0m\u001b[0mmin_similarity\u001b[0m\u001b[0;34m,\u001b[0m \u001b[0;36m1.0\u001b[0m\u001b[0;34m)\u001b[0m\u001b[0;34m,\u001b[0m \u001b[0;36m0.0\u001b[0m\u001b[0;34m)\u001b[0m\u001b[0;34m)\u001b[0m\u001b[0;34m\u001b[0m\u001b[0;34m\u001b[0m\u001b[0m\n\u001b[1;32m     98\u001b[0m     \u001b[0mmax_distance\u001b[0m \u001b[0;34m=\u001b[0m \u001b[0mint\u001b[0m\u001b[0;34m(\u001b[0m\u001b[0mfloor\u001b[0m\u001b[0;34m(\u001b[0m\u001b[0mmax_lengths\u001b[0m \u001b[0;34m*\u001b[0m \u001b[0;34m(\u001b[0m\u001b[0;36m1\u001b[0m \u001b[0;34m-\u001b[0m \u001b[0;34m(\u001b[0m\u001b[0mmin_similarity\u001b[0m \u001b[0;34m/\u001b[0m \u001b[0malpha\u001b[0m\u001b[0;34m)\u001b[0m \u001b[0;34m**\u001b[0m \u001b[0;34m(\u001b[0m\u001b[0;36m1\u001b[0m \u001b[0;34m/\u001b[0m \u001b[0mbeta\u001b[0m\u001b[0;34m)\u001b[0m\u001b[0;34m)\u001b[0m\u001b[0;34m)\u001b[0m\u001b[0;34m)\u001b[0m\u001b[0;34m\u001b[0m\u001b[0;34m\u001b[0m\u001b[0m\n\u001b[0;32m---> 99\u001b[0;31m     \u001b[0mdistance\u001b[0m \u001b[0;34m=\u001b[0m \u001b[0mlevdist\u001b[0m\u001b[0;34m(\u001b[0m\u001b[0mt1\u001b[0m\u001b[0;34m,\u001b[0m \u001b[0mt2\u001b[0m\u001b[0;34m,\u001b[0m \u001b[0mmax_distance\u001b[0m\u001b[0;34m)\u001b[0m\u001b[0;34m\u001b[0m\u001b[0;34m\u001b[0m\u001b[0m\n\u001b[0m\u001b[1;32m    100\u001b[0m     \u001b[0msimilarity\u001b[0m \u001b[0;34m=\u001b[0m \u001b[0malpha\u001b[0m \u001b[0;34m*\u001b[0m \u001b[0;34m(\u001b[0m\u001b[0;36m1\u001b[0m \u001b[0;34m-\u001b[0m \u001b[0mdistance\u001b[0m \u001b[0;34m*\u001b[0m \u001b[0;36m1.0\u001b[0m \u001b[0;34m/\u001b[0m \u001b[0mmax_lengths\u001b[0m\u001b[0;34m)\u001b[0m\u001b[0;34m**\u001b[0m\u001b[0mbeta\u001b[0m\u001b[0;34m\u001b[0m\u001b[0;34m\u001b[0m\u001b[0m\n\u001b[1;32m    101\u001b[0m     \u001b[0;32mreturn\u001b[0m \u001b[0msimilarity\u001b[0m\u001b[0;34m\u001b[0m\u001b[0;34m\u001b[0m\u001b[0m\n",
      "\u001b[0;32m~/opt/anaconda3/lib/python3.7/site-packages/gensim/similarities/levenshtein.py\u001b[0m in \u001b[0;36mlevdist\u001b[0;34m(t1, t2, max_distance)\u001b[0m\n\u001b[1;32m     44\u001b[0m \u001b[0;34m\u001b[0m\u001b[0m\n\u001b[1;32m     45\u001b[0m     \"\"\"\n\u001b[0;32m---> 46\u001b[0;31m     \u001b[0;32mimport\u001b[0m \u001b[0mLevenshtein\u001b[0m\u001b[0;34m\u001b[0m\u001b[0;34m\u001b[0m\u001b[0m\n\u001b[0m\u001b[1;32m     47\u001b[0m \u001b[0;34m\u001b[0m\u001b[0m\n\u001b[1;32m     48\u001b[0m     \u001b[0mdistance\u001b[0m \u001b[0;34m=\u001b[0m \u001b[0mLevenshtein\u001b[0m\u001b[0;34m.\u001b[0m\u001b[0mdistance\u001b[0m\u001b[0;34m(\u001b[0m\u001b[0mt1\u001b[0m\u001b[0;34m,\u001b[0m \u001b[0mt2\u001b[0m\u001b[0;34m)\u001b[0m\u001b[0;34m\u001b[0m\u001b[0;34m\u001b[0m\u001b[0m\n",
      "\u001b[0;31mModuleNotFoundError\u001b[0m: No module named 'Levenshtein'"
     ]
    }
   ],
   "source": [
    "similarity_matrix.most_similar('ciao','miao')"
   ]
  },
  {
   "cell_type": "code",
   "execution_count": 12,
   "metadata": {},
   "outputs": [],
   "source": [
    "import json"
   ]
  },
  {
   "cell_type": "code",
   "execution_count": null,
   "metadata": {},
   "outputs": [],
   "source": []
  },
  {
   "cell_type": "code",
   "execution_count": 13,
   "metadata": {},
   "outputs": [],
   "source": [
    "documento = {'Vocab' : list(w2cSorted.keys())[0:200000]}"
   ]
  },
  {
   "cell_type": "code",
   "execution_count": 14,
   "metadata": {},
   "outputs": [],
   "source": [
    "j=json.dumps(documento)"
   ]
  },
  {
   "cell_type": "code",
   "execution_count": 15,
   "metadata": {},
   "outputs": [],
   "source": [
    "\n",
    "with open('documents2.json', 'w') as f:\n",
    "    json.dump(documento, f)"
   ]
  },
  {
   "cell_type": "code",
   "execution_count": 16,
   "metadata": {},
   "outputs": [
    {
     "data": {
      "text/plain": [
       "[('2018', 9.79153e-05),\n",
       " ('defunto', 7.0103495e-05),\n",
       " ('re', 6.449886e-05),\n",
       " ('2019', 5.2261992e-05),\n",
       " ('osiride', 5.0827624e-05),\n",
       " ('nominato', 4.362666e-05),\n",
       " ('rilasciato', 3.552138e-05),\n",
       " ('regina', 3.4879795e-05),\n",
       " ('incoronato', 3.3104556e-05),\n",
       " ('acquistato', 3.2179687e-05)]"
      ]
     },
     "execution_count": 16,
     "metadata": {},
     "output_type": "execute_result"
    }
   ],
   "source": [
    "model.predict_output_word(['il', 're', 'viene'])"
   ]
  },
  {
   "cell_type": "code",
   "execution_count": 17,
   "metadata": {},
   "outputs": [],
   "source": [
    "l=documento.get('Vocab')"
   ]
  },
  {
   "cell_type": "code",
   "execution_count": 21,
   "metadata": {},
   "outputs": [
    {
     "name": "stderr",
     "output_type": "stream",
     "text": [
      "/Users/stefanoraimondousai/opt/anaconda3/lib/python3.7/site-packages/ipykernel_launcher.py:1: DeprecationWarning: Call to deprecated `__getitem__` (Method will be removed in 4.0.0, use self.wv.__getitem__() instead).\n",
      "  \"\"\"Entry point for launching an IPython kernel.\n"
     ]
    },
    {
     "data": {
      "text/plain": [
       "array([-2.78269574e-02,  1.45251378e-02, -6.75706118e-02,  4.47978713e-02,\n",
       "       -9.76230542e-04, -2.13590525e-02,  1.16013274e-01, -3.16917412e-02,\n",
       "       -7.36298738e-03, -2.28275899e-02, -9.10037570e-03, -1.00998610e-01,\n",
       "        8.10482912e-03, -4.24688831e-02,  5.53846685e-03,  3.70965302e-02,\n",
       "        2.53953294e-05, -4.26614210e-02,  4.36667167e-02, -5.23694791e-03,\n",
       "        2.02499777e-02, -1.99114531e-02,  5.59875220e-02,  6.79895878e-02,\n",
       "        4.55510169e-02,  6.39408976e-02, -2.33855303e-02,  5.04009500e-02,\n",
       "        6.27523735e-02,  3.79991792e-02,  5.90542369e-02, -6.30813912e-02,\n",
       "        4.12860960e-02, -4.79133315e-02,  4.32490446e-02,  1.04108164e-02,\n",
       "       -4.32327092e-02, -2.71523986e-02,  6.13531517e-03,  5.98004013e-02,\n",
       "       -3.31036486e-02,  4.72383760e-02,  1.02388829e-01, -8.70649219e-02,\n",
       "        9.05907080e-02, -1.12635076e-04, -7.17694312e-02, -4.01038527e-02,\n",
       "       -3.99079807e-02, -2.13585608e-02,  1.41556829e-03, -7.73819387e-02,\n",
       "        1.40007853e-03,  6.01896225e-03,  5.01467250e-02, -6.55713305e-02,\n",
       "       -6.56546326e-03, -4.50814366e-02, -4.96005453e-02,  2.84600034e-02,\n",
       "        1.50569463e-02, -5.60891107e-02,  2.46867468e-03,  2.78434921e-02,\n",
       "        1.86805967e-02,  4.87706140e-02,  4.52380106e-02, -2.65857615e-02,\n",
       "        4.93983403e-02,  8.89115874e-03, -2.72416770e-02, -4.93535288e-02,\n",
       "       -7.19356015e-02,  2.67666504e-02, -9.71955899e-03,  6.53439090e-02,\n",
       "        8.52860324e-03, -8.48103128e-03,  1.23555551e-03, -2.82239355e-02,\n",
       "        1.05190553e-01,  6.47018244e-03,  4.99665029e-02, -6.41535223e-02,\n",
       "       -2.26707216e-02, -7.19154719e-03, -1.68593585e-01, -3.00030317e-03,\n",
       "        1.95957292e-02, -7.26560280e-02, -2.25196481e-02, -7.21986964e-02,\n",
       "       -5.80023900e-02,  7.65386177e-03, -1.80468746e-02, -1.32766934e-02,\n",
       "       -9.75496620e-02,  7.60608017e-02, -2.07134876e-02,  6.50926679e-02,\n",
       "       -4.23647761e-02,  3.69060077e-02,  8.38074088e-02,  7.96546191e-02,\n",
       "        5.18633202e-02, -1.88418012e-02, -3.12326960e-02,  7.40067661e-02,\n",
       "       -1.76644530e-02, -8.46955255e-02,  3.46221477e-02, -6.28175661e-02,\n",
       "        3.47391255e-02, -4.67067994e-02, -6.24977723e-02, -1.36062866e-02,\n",
       "        7.39792660e-02, -5.20279184e-02, -2.31797360e-02, -4.79628593e-02,\n",
       "        7.17464928e-03,  4.09424771e-03,  1.98434591e-02,  1.32662300e-02,\n",
       "        2.11733542e-02, -6.04257919e-02,  8.85148067e-03,  8.55334569e-03,\n",
       "       -3.23764533e-02, -1.82567034e-02,  2.02586669e-02, -2.49381568e-02,\n",
       "       -1.06379800e-01,  1.23506151e-02,  1.35516915e-02,  1.03732320e-02,\n",
       "       -1.65210962e-02,  2.79539190e-02,  1.20348986e-02,  8.90277699e-02,\n",
       "       -1.39227957e-01, -2.49621496e-02, -4.36610878e-02,  2.01599505e-02,\n",
       "        4.46395390e-02, -1.60489399e-02, -1.96515000e-03,  2.63232421e-02,\n",
       "       -2.93806307e-02, -9.01063681e-02,  6.79657934e-03, -1.41492840e-02,\n",
       "       -3.13526802e-02,  3.91451642e-02,  4.88514341e-02,  8.23047981e-02,\n",
       "       -8.26563686e-02,  1.13765690e-02,  3.69951641e-03,  1.86488722e-02,\n",
       "        2.85291336e-02,  1.56370047e-02, -1.33429179e-02,  1.67956613e-02,\n",
       "       -6.73951060e-02,  3.06350701e-02, -1.61731001e-02,  2.46150997e-02,\n",
       "       -4.85732667e-02,  3.90249826e-02, -5.32352105e-02, -3.61601310e-03,\n",
       "        4.84640636e-02,  2.84371413e-02, -8.22428800e-03,  7.26618469e-02,\n",
       "       -3.23463790e-02,  4.95407209e-02, -7.38467053e-02, -4.77700531e-02,\n",
       "        7.05862120e-02,  5.17469570e-02,  5.31667806e-02,  1.86915286e-02,\n",
       "        2.41160542e-02, -2.03058235e-02,  5.47813717e-03,  4.03455980e-02,\n",
       "        2.02290472e-02, -5.47024868e-02, -2.50351746e-02,  3.70298512e-03,\n",
       "       -7.85947517e-02,  2.94771697e-02,  5.48181795e-02,  1.95260912e-01,\n",
       "        7.76681602e-02, -5.44218160e-02, -7.65271634e-02, -5.60115576e-02,\n",
       "        6.67316392e-02, -1.15560442e-01,  6.16732724e-02, -1.93831250e-02,\n",
       "       -1.05929576e-01,  1.67246405e-02,  2.57556513e-02,  3.25073935e-02,\n",
       "       -2.94462778e-02,  5.08260122e-03,  2.62892563e-02,  7.87072778e-02,\n",
       "       -4.14452329e-02, -3.08757257e-02,  5.03100343e-02, -3.39982403e-03,\n",
       "       -9.81972963e-02,  9.61502257e-04,  4.95928898e-03, -4.08941209e-02,\n",
       "       -1.42599847e-02,  1.05301505e-02, -1.57128554e-02, -2.08937586e-03,\n",
       "       -5.98542020e-03,  3.45999422e-03,  2.23773159e-02, -8.37154314e-02,\n",
       "        4.54565957e-02,  2.88903974e-02,  1.03616975e-01,  1.02333866e-01,\n",
       "        3.46020870e-02, -9.75978225e-02,  2.78249942e-02, -2.78015602e-02,\n",
       "        6.28578737e-02, -5.33371530e-02, -8.97438675e-02, -4.92832400e-02,\n",
       "        5.72336614e-02,  6.92995340e-02, -5.99879436e-02,  2.50535551e-02,\n",
       "        3.42212208e-02,  3.72059196e-02, -9.60771069e-02, -1.08660115e-02,\n",
       "       -7.09894067e-03, -2.40862090e-02, -5.76971844e-02,  6.06885031e-02,\n",
       "       -2.19284091e-02,  1.49234375e-02,  1.92331597e-02,  1.05200268e-01,\n",
       "        1.10174313e-01, -1.60122454e-01, -5.62977195e-02, -4.73020598e-02,\n",
       "       -2.45009754e-02, -2.67828489e-03,  7.26950914e-02,  2.22699903e-02,\n",
       "       -7.81444926e-03,  3.56190689e-02, -5.41931465e-02,  4.55063023e-02,\n",
       "       -3.61721404e-02, -7.49717355e-02,  2.43428443e-02,  1.23301409e-02,\n",
       "       -1.26860514e-01, -2.95827724e-02, -7.64933042e-03,  3.00391763e-03,\n",
       "        3.32025327e-02,  6.02164827e-02, -1.64442174e-02, -5.86105250e-02,\n",
       "       -4.17183116e-02,  7.55681656e-03,  1.03962915e-02,  6.19197125e-03,\n",
       "        3.53725366e-02, -7.19217956e-03, -1.19956313e-02, -6.24863477e-03,\n",
       "        2.75352821e-02,  5.31077310e-02,  5.16821481e-02,  1.68846101e-02,\n",
       "        4.21694480e-03,  2.21902374e-02,  4.23103273e-02, -6.87389001e-02,\n",
       "       -4.92354482e-02,  1.58894341e-02,  6.23890758e-02, -7.41063803e-02],\n",
       "      dtype=float32)"
      ]
     },
     "execution_count": 21,
     "metadata": {},
     "output_type": "execute_result"
    }
   ],
   "source": [
    "model['aranzulla']"
   ]
  },
  {
   "cell_type": "code",
   "execution_count": 18,
   "metadata": {},
   "outputs": [],
   "source": [
    "a=[]\n",
    "for e in l:\n",
    "    a.append([e])"
   ]
  },
  {
   "cell_type": "code",
   "execution_count": 19,
   "metadata": {
    "scrolled": true
   },
   "outputs": [
    {
     "name": "stdout",
     "output_type": "stream",
     "text": [
      "CPU times: user 472 ms, sys: 297 ms, total: 769 ms\n",
      "Wall time: 5min 15s\n"
     ]
    }
   ],
   "source": [
    "%%time\n",
    "import multiprocessing\n",
    "try:\n",
    "    cpus = multiprocessing.cpu_count()\n",
    "except NotImplementedError:\n",
    "    cpus = 2   # arbitrary default\n",
    "\n",
    "def function(oldlist):\n",
    "    for word in oldlist:\n",
    "        if word in l:\n",
    "            return (word, True)\n",
    "        else:\n",
    "            return (word, False)\n",
    "pool = multiprocessing.Pool(processes=cpus)\n",
    "nl=pool.map(function, a)"
   ]
  },
  {
   "cell_type": "code",
   "execution_count": 25,
   "metadata": {},
   "outputs": [
    {
     "data": {
      "text/plain": [
       "True"
      ]
     },
     "execution_count": 25,
     "metadata": {},
     "output_type": "execute_result"
    }
   ],
   "source": [
    "'combino' in list(w2cSorted.keys())"
   ]
  },
  {
   "cell_type": "code",
   "execution_count": 39,
   "metadata": {},
   "outputs": [],
   "source": [
    "miao = gensim.similarities.LevenshteinSimilarityIndex(l)"
   ]
  },
  {
   "cell_type": "code",
   "execution_count": 41,
   "metadata": {},
   "outputs": [
    {
     "data": {
      "text/plain": [
       "5.0"
      ]
     },
     "execution_count": 41,
     "metadata": {},
     "output_type": "execute_result"
    }
   ],
   "source": [
    "miao.beta"
   ]
  },
  {
   "cell_type": "code",
   "execution_count": 47,
   "metadata": {},
   "outputs": [
    {
     "ename": "TypeError",
     "evalue": "most_similar() missing 1 required positional argument: 't1'",
     "output_type": "error",
     "traceback": [
      "\u001b[0;31m---------------------------------------------------------------------------\u001b[0m",
      "\u001b[0;31mTypeError\u001b[0m                                 Traceback (most recent call last)",
      "\u001b[0;32m<ipython-input-47-d8ae1cc23f06>\u001b[0m in \u001b[0;36m<module>\u001b[0;34m\u001b[0m\n\u001b[0;32m----> 1\u001b[0;31m \u001b[0mmiao\u001b[0m\u001b[0;34m.\u001b[0m\u001b[0mmost_similar\u001b[0m\u001b[0;34m(\u001b[0m\u001b[0;34m)\u001b[0m\u001b[0;34m\u001b[0m\u001b[0;34m\u001b[0m\u001b[0m\n\u001b[0m",
      "\u001b[0;31mTypeError\u001b[0m: most_similar() missing 1 required positional argument: 't1'"
     ]
    }
   ],
   "source": [
    "miao.most_similar()"
   ]
  },
  {
   "cell_type": "code",
   "execution_count": null,
   "metadata": {},
   "outputs": [],
   "source": []
  }
 ],
 "metadata": {
  "kernelspec": {
   "display_name": "Python 3",
   "language": "python",
   "name": "python3"
  },
  "language_info": {
   "codemirror_mode": {
    "name": "ipython",
    "version": 3
   },
   "file_extension": ".py",
   "mimetype": "text/x-python",
   "name": "python",
   "nbconvert_exporter": "python",
   "pygments_lexer": "ipython3",
   "version": "3.7.4"
  }
 },
 "nbformat": 4,
 "nbformat_minor": 4
}

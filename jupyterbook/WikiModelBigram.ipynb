{
 "cells": [
  {
   "cell_type": "code",
   "execution_count": 1,
   "metadata": {},
   "outputs": [],
   "source": [
    "import gensim\n",
    "from gensim.corpora.wikicorpus import WikiCorpus\n",
    "from gensim.models import Phrases, TfidfModel\n",
    "from gensim.models.phrases import Phraser\n",
    "from gensim.test.utils import datapath \n",
    "from gensim.models.word2vec import Word2Vec, Text8Corpus\n",
    "import logging"
   ]
  },
  {
   "cell_type": "code",
   "execution_count": 2,
   "metadata": {},
   "outputs": [],
   "source": [
    "logging.basicConfig(format='%(asctime)s: %(levelname)s: %(message)s')\n",
    "logging.root.setLevel(level=logging.INFO)"
   ]
  },
  {
   "cell_type": "code",
   "execution_count": 3,
   "metadata": {},
   "outputs": [],
   "source": [
    "path = '/Users/stefanoraimondousai/Documents/ReadingCourse/WikiPulito.txt' \n",
    "sentences = Text8Corpus(datapath(path))"
   ]
  },
  {
   "cell_type": "code",
   "execution_count": null,
   "metadata": {},
   "outputs": [],
   "source": [
    "bigram = Phrases(sentences, min_count=1, delimiter=b'_')"
   ]
  },
  {
   "cell_type": "code",
   "execution_count": null,
   "metadata": {
    "scrolled": true
   },
   "outputs": [],
   "source": [
    "phraser=Phraser(bigram)"
   ]
  },
  {
   "cell_type": "code",
   "execution_count": 6,
   "metadata": {},
   "outputs": [],
   "source": [
    "del bigram"
   ]
  },
  {
   "cell_type": "code",
   "execution_count": 7,
   "metadata": {
    "scrolled": true
   },
   "outputs": [
    {
     "name": "stderr",
     "output_type": "stream",
     "text": [
      "2020-03-15 22:38:34,380: INFO: EPOCH 5 - PROGRESS: at 94.88% examples, 109208 words/s, in_qsize 1, out_qsize 0\n",
      "2020-03-15 22:38:35,403: INFO: EPOCH 5 - PROGRESS: at 94.91% examples, 109204 words/s, in_qsize 0, out_qsize 0\n",
      "2020-03-15 22:38:36,469: INFO: EPOCH 5 - PROGRESS: at 94.95% examples, 109198 words/s, in_qsize 0, out_qsize 0\n",
      "2020-03-15 22:38:37,491: INFO: EPOCH 5 - PROGRESS: at 94.98% examples, 109199 words/s, in_qsize 0, out_qsize 0\n",
      "2020-03-15 22:38:38,535: INFO: EPOCH 5 - PROGRESS: at 95.02% examples, 109199 words/s, in_qsize 0, out_qsize 0\n",
      "2020-03-15 22:38:39,555: INFO: EPOCH 5 - PROGRESS: at 95.05% examples, 109200 words/s, in_qsize 0, out_qsize 0\n",
      "2020-03-15 22:38:40,616: INFO: EPOCH 5 - PROGRESS: at 95.09% examples, 109199 words/s, in_qsize 0, out_qsize 0\n",
      "2020-03-15 22:38:41,647: INFO: EPOCH 5 - PROGRESS: at 95.13% examples, 109204 words/s, in_qsize 0, out_qsize 0\n",
      "2020-03-15 22:38:42,652: INFO: EPOCH 5 - PROGRESS: at 95.17% examples, 109208 words/s, in_qsize 0, out_qsize 0\n",
      "2020-03-15 22:38:43,674: INFO: EPOCH 5 - PROGRESS: at 95.21% examples, 109214 words/s, in_qsize 0, out_qsize 0\n",
      "2020-03-15 22:38:44,688: INFO: EPOCH 5 - PROGRESS: at 95.25% examples, 109217 words/s, in_qsize 0, out_qsize 0\n",
      "2020-03-15 22:38:45,722: INFO: EPOCH 5 - PROGRESS: at 95.29% examples, 109223 words/s, in_qsize 0, out_qsize 0\n",
      "2020-03-15 22:38:46,727: INFO: EPOCH 5 - PROGRESS: at 95.33% examples, 109229 words/s, in_qsize 0, out_qsize 0\n",
      "2020-03-15 22:38:47,780: INFO: EPOCH 5 - PROGRESS: at 95.37% examples, 109237 words/s, in_qsize 0, out_qsize 0\n",
      "2020-03-15 22:38:48,793: INFO: EPOCH 5 - PROGRESS: at 95.41% examples, 109238 words/s, in_qsize 0, out_qsize 0\n",
      "2020-03-15 22:38:49,859: INFO: EPOCH 5 - PROGRESS: at 95.44% examples, 109237 words/s, in_qsize 0, out_qsize 0\n",
      "2020-03-15 22:38:51,102: INFO: EPOCH 5 - PROGRESS: at 95.46% examples, 109214 words/s, in_qsize 1, out_qsize 0\n",
      "2020-03-15 22:38:52,246: INFO: EPOCH 5 - PROGRESS: at 95.49% examples, 109202 words/s, in_qsize 0, out_qsize 0\n",
      "2020-03-15 22:38:53,290: INFO: EPOCH 5 - PROGRESS: at 95.53% examples, 109202 words/s, in_qsize 0, out_qsize 0\n",
      "2020-03-15 22:38:54,303: INFO: EPOCH 5 - PROGRESS: at 95.56% examples, 109195 words/s, in_qsize 0, out_qsize 0\n",
      "2020-03-15 22:38:55,353: INFO: EPOCH 5 - PROGRESS: at 95.60% examples, 109198 words/s, in_qsize 0, out_qsize 0\n",
      "2020-03-15 22:38:56,987: INFO: EPOCH 5 - PROGRESS: at 95.63% examples, 109172 words/s, in_qsize 0, out_qsize 0\n",
      "2020-03-15 22:38:58,188: INFO: EPOCH 5 - PROGRESS: at 95.64% examples, 109135 words/s, in_qsize 0, out_qsize 0\n",
      "2020-03-15 22:38:59,203: INFO: EPOCH 5 - PROGRESS: at 95.67% examples, 109129 words/s, in_qsize 0, out_qsize 0\n",
      "2020-03-15 22:39:00,221: INFO: EPOCH 5 - PROGRESS: at 95.70% examples, 109124 words/s, in_qsize 0, out_qsize 0\n",
      "2020-03-15 22:39:01,243: INFO: EPOCH 5 - PROGRESS: at 95.73% examples, 109120 words/s, in_qsize 1, out_qsize 0\n",
      "2020-03-15 22:39:02,276: INFO: EPOCH 5 - PROGRESS: at 95.77% examples, 109118 words/s, in_qsize 0, out_qsize 0\n",
      "2020-03-15 22:39:03,291: INFO: EPOCH 5 - PROGRESS: at 95.80% examples, 109116 words/s, in_qsize 0, out_qsize 0\n",
      "2020-03-15 22:39:04,319: INFO: EPOCH 5 - PROGRESS: at 95.83% examples, 109114 words/s, in_qsize 1, out_qsize 0\n",
      "2020-03-15 22:39:05,376: INFO: EPOCH 5 - PROGRESS: at 95.87% examples, 109113 words/s, in_qsize 0, out_qsize 0\n",
      "2020-03-15 22:39:06,438: INFO: EPOCH 5 - PROGRESS: at 95.91% examples, 109113 words/s, in_qsize 1, out_qsize 0\n",
      "2020-03-15 22:39:07,552: INFO: EPOCH 5 - PROGRESS: at 95.94% examples, 109112 words/s, in_qsize 0, out_qsize 1\n",
      "2020-03-15 22:39:08,566: INFO: EPOCH 5 - PROGRESS: at 95.98% examples, 109111 words/s, in_qsize 0, out_qsize 0\n",
      "2020-03-15 22:39:09,585: INFO: EPOCH 5 - PROGRESS: at 96.01% examples, 109110 words/s, in_qsize 0, out_qsize 0\n",
      "2020-03-15 22:39:10,700: INFO: EPOCH 5 - PROGRESS: at 96.04% examples, 109100 words/s, in_qsize 0, out_qsize 0\n",
      "2020-03-15 22:39:11,787: INFO: EPOCH 5 - PROGRESS: at 96.06% examples, 109085 words/s, in_qsize 0, out_qsize 0\n",
      "2020-03-15 22:39:12,795: INFO: EPOCH 5 - PROGRESS: at 96.09% examples, 109076 words/s, in_qsize 1, out_qsize 0\n",
      "2020-03-15 22:39:13,815: INFO: EPOCH 5 - PROGRESS: at 96.12% examples, 109069 words/s, in_qsize 1, out_qsize 0\n",
      "2020-03-15 22:39:14,830: INFO: EPOCH 5 - PROGRESS: at 96.15% examples, 109063 words/s, in_qsize 0, out_qsize 0\n",
      "2020-03-15 22:39:15,850: INFO: EPOCH 5 - PROGRESS: at 96.18% examples, 109058 words/s, in_qsize 0, out_qsize 0\n",
      "2020-03-15 22:39:16,891: INFO: EPOCH 5 - PROGRESS: at 96.22% examples, 109056 words/s, in_qsize 0, out_qsize 0\n",
      "2020-03-15 22:39:17,910: INFO: EPOCH 5 - PROGRESS: at 96.25% examples, 109051 words/s, in_qsize 0, out_qsize 0\n",
      "2020-03-15 22:39:18,983: INFO: EPOCH 5 - PROGRESS: at 96.29% examples, 109053 words/s, in_qsize 0, out_qsize 0\n",
      "2020-03-15 22:39:20,058: INFO: EPOCH 5 - PROGRESS: at 96.32% examples, 109053 words/s, in_qsize 1, out_qsize 0\n",
      "2020-03-15 22:39:21,075: INFO: EPOCH 5 - PROGRESS: at 96.36% examples, 109057 words/s, in_qsize 0, out_qsize 0\n",
      "2020-03-15 22:39:22,104: INFO: EPOCH 5 - PROGRESS: at 96.40% examples, 109061 words/s, in_qsize 0, out_qsize 0\n",
      "2020-03-15 22:39:23,142: INFO: EPOCH 5 - PROGRESS: at 96.44% examples, 109066 words/s, in_qsize 0, out_qsize 0\n",
      "2020-03-15 22:39:24,189: INFO: EPOCH 5 - PROGRESS: at 96.48% examples, 109071 words/s, in_qsize 0, out_qsize 0\n",
      "2020-03-15 22:39:25,197: INFO: EPOCH 5 - PROGRESS: at 96.52% examples, 109077 words/s, in_qsize 0, out_qsize 0\n",
      "2020-03-15 22:39:26,286: INFO: EPOCH 5 - PROGRESS: at 96.56% examples, 109073 words/s, in_qsize 0, out_qsize 0\n",
      "2020-03-15 22:39:27,372: INFO: EPOCH 5 - PROGRESS: at 96.60% examples, 109076 words/s, in_qsize 0, out_qsize 1\n",
      "2020-03-15 22:39:28,450: INFO: EPOCH 5 - PROGRESS: at 96.64% examples, 109077 words/s, in_qsize 0, out_qsize 0\n",
      "2020-03-15 22:39:29,455: INFO: EPOCH 5 - PROGRESS: at 96.67% examples, 109079 words/s, in_qsize 0, out_qsize 0\n",
      "2020-03-15 22:39:30,540: INFO: EPOCH 5 - PROGRESS: at 96.71% examples, 109080 words/s, in_qsize 0, out_qsize 0\n",
      "2020-03-15 22:39:31,572: INFO: EPOCH 5 - PROGRESS: at 96.75% examples, 109085 words/s, in_qsize 0, out_qsize 0\n",
      "2020-03-15 22:39:32,606: INFO: EPOCH 5 - PROGRESS: at 96.79% examples, 109091 words/s, in_qsize 0, out_qsize 0\n",
      "2020-03-15 22:39:33,611: INFO: EPOCH 5 - PROGRESS: at 96.83% examples, 109092 words/s, in_qsize 1, out_qsize 1\n",
      "2020-03-15 22:39:34,658: INFO: EPOCH 5 - PROGRESS: at 96.87% examples, 109100 words/s, in_qsize 0, out_qsize 0\n",
      "2020-03-15 22:39:35,681: INFO: EPOCH 5 - PROGRESS: at 96.91% examples, 109106 words/s, in_qsize 0, out_qsize 0\n",
      "2020-03-15 22:39:36,685: INFO: EPOCH 5 - PROGRESS: at 96.95% examples, 109112 words/s, in_qsize 0, out_qsize 0\n",
      "2020-03-15 22:39:37,709: INFO: EPOCH 5 - PROGRESS: at 96.99% examples, 109115 words/s, in_qsize 1, out_qsize 0\n",
      "2020-03-15 22:39:38,710: INFO: EPOCH 5 - PROGRESS: at 97.03% examples, 109124 words/s, in_qsize 1, out_qsize 0\n",
      "2020-03-15 22:39:39,747: INFO: EPOCH 5 - PROGRESS: at 97.07% examples, 109130 words/s, in_qsize 0, out_qsize 0\n",
      "2020-03-15 22:39:40,807: INFO: EPOCH 5 - PROGRESS: at 97.11% examples, 109137 words/s, in_qsize 0, out_qsize 0\n",
      "2020-03-15 22:39:41,859: INFO: EPOCH 5 - PROGRESS: at 97.16% examples, 109144 words/s, in_qsize 0, out_qsize 0\n",
      "2020-03-15 22:39:42,864: INFO: EPOCH 5 - PROGRESS: at 97.19% examples, 109140 words/s, in_qsize 0, out_qsize 0\n",
      "2020-03-15 22:39:43,879: INFO: EPOCH 5 - PROGRESS: at 97.23% examples, 109144 words/s, in_qsize 0, out_qsize 0\n",
      "2020-03-15 22:39:44,941: INFO: EPOCH 5 - PROGRESS: at 97.27% examples, 109146 words/s, in_qsize 0, out_qsize 0\n",
      "2020-03-15 22:39:45,984: INFO: EPOCH 5 - PROGRESS: at 97.31% examples, 109151 words/s, in_qsize 0, out_qsize 0\n",
      "2020-03-15 22:39:46,990: INFO: EPOCH 5 - PROGRESS: at 97.34% examples, 109154 words/s, in_qsize 0, out_qsize 0\n",
      "2020-03-15 22:39:47,994: INFO: EPOCH 5 - PROGRESS: at 97.38% examples, 109158 words/s, in_qsize 0, out_qsize 0\n",
      "2020-03-15 22:39:49,037: INFO: EPOCH 5 - PROGRESS: at 97.42% examples, 109163 words/s, in_qsize 0, out_qsize 0\n",
      "2020-03-15 22:39:50,055: INFO: EPOCH 5 - PROGRESS: at 97.46% examples, 109169 words/s, in_qsize 0, out_qsize 0\n",
      "2020-03-15 22:39:51,069: INFO: EPOCH 5 - PROGRESS: at 97.50% examples, 109175 words/s, in_qsize 0, out_qsize 0\n",
      "2020-03-15 22:39:52,091: INFO: EPOCH 5 - PROGRESS: at 97.54% examples, 109181 words/s, in_qsize 0, out_qsize 0\n",
      "2020-03-15 22:39:53,172: INFO: EPOCH 5 - PROGRESS: at 97.59% examples, 109187 words/s, in_qsize 1, out_qsize 0\n",
      "2020-03-15 22:39:54,250: INFO: EPOCH 5 - PROGRESS: at 97.63% examples, 109191 words/s, in_qsize 0, out_qsize 0\n",
      "2020-03-15 22:39:55,291: INFO: EPOCH 5 - PROGRESS: at 97.65% examples, 109171 words/s, in_qsize 0, out_qsize 0\n",
      "2020-03-15 22:39:56,344: INFO: EPOCH 5 - PROGRESS: at 97.67% examples, 109163 words/s, in_qsize 0, out_qsize 0\n",
      "2020-03-15 22:39:57,350: INFO: EPOCH 5 - PROGRESS: at 97.70% examples, 109154 words/s, in_qsize 0, out_qsize 0\n",
      "2020-03-15 22:39:58,378: INFO: EPOCH 5 - PROGRESS: at 97.72% examples, 109140 words/s, in_qsize 0, out_qsize 0\n",
      "2020-03-15 22:39:59,532: INFO: EPOCH 5 - PROGRESS: at 97.76% examples, 109136 words/s, in_qsize 0, out_qsize 0\n",
      "2020-03-15 22:40:00,576: INFO: EPOCH 5 - PROGRESS: at 97.79% examples, 109133 words/s, in_qsize 1, out_qsize 0\n",
      "2020-03-15 22:40:01,615: INFO: EPOCH 5 - PROGRESS: at 97.82% examples, 109121 words/s, in_qsize 0, out_qsize 0\n",
      "2020-03-15 22:40:02,632: INFO: EPOCH 5 - PROGRESS: at 97.85% examples, 109119 words/s, in_qsize 0, out_qsize 0\n",
      "2020-03-15 22:40:03,651: INFO: EPOCH 5 - PROGRESS: at 97.88% examples, 109113 words/s, in_qsize 0, out_qsize 0\n",
      "2020-03-15 22:40:04,699: INFO: EPOCH 5 - PROGRESS: at 97.92% examples, 109110 words/s, in_qsize 0, out_qsize 0\n",
      "2020-03-15 22:40:05,701: INFO: EPOCH 5 - PROGRESS: at 97.95% examples, 109114 words/s, in_qsize 0, out_qsize 0\n",
      "2020-03-15 22:40:06,720: INFO: EPOCH 5 - PROGRESS: at 97.99% examples, 109118 words/s, in_qsize 1, out_qsize 0\n",
      "2020-03-15 22:40:07,751: INFO: EPOCH 5 - PROGRESS: at 98.03% examples, 109119 words/s, in_qsize 0, out_qsize 0\n",
      "2020-03-15 22:40:08,805: INFO: EPOCH 5 - PROGRESS: at 98.07% examples, 109126 words/s, in_qsize 0, out_qsize 0\n",
      "2020-03-15 22:40:09,815: INFO: EPOCH 5 - PROGRESS: at 98.11% examples, 109127 words/s, in_qsize 0, out_qsize 0\n",
      "2020-03-15 22:40:10,887: INFO: EPOCH 5 - PROGRESS: at 98.15% examples, 109134 words/s, in_qsize 0, out_qsize 0\n",
      "2020-03-15 22:40:11,890: INFO: EPOCH 5 - PROGRESS: at 98.19% examples, 109137 words/s, in_qsize 0, out_qsize 0\n",
      "2020-03-15 22:40:12,909: INFO: EPOCH 5 - PROGRESS: at 98.23% examples, 109141 words/s, in_qsize 0, out_qsize 0\n",
      "2020-03-15 22:40:13,940: INFO: EPOCH 5 - PROGRESS: at 98.27% examples, 109146 words/s, in_qsize 1, out_qsize 0\n",
      "2020-03-15 22:40:14,954: INFO: EPOCH 5 - PROGRESS: at 98.30% examples, 109150 words/s, in_qsize 0, out_qsize 0\n",
      "2020-03-15 22:40:16,004: INFO: EPOCH 5 - PROGRESS: at 98.34% examples, 109154 words/s, in_qsize 0, out_qsize 0\n",
      "2020-03-15 22:40:17,050: INFO: EPOCH 5 - PROGRESS: at 98.39% examples, 109159 words/s, in_qsize 0, out_qsize 0\n",
      "2020-03-15 22:40:18,149: INFO: EPOCH 5 - PROGRESS: at 98.43% examples, 109161 words/s, in_qsize 0, out_qsize 0\n",
      "2020-03-15 22:40:19,179: INFO: EPOCH 5 - PROGRESS: at 98.47% examples, 109171 words/s, in_qsize 0, out_qsize 0\n",
      "2020-03-15 22:40:20,199: INFO: EPOCH 5 - PROGRESS: at 98.51% examples, 109179 words/s, in_qsize 0, out_qsize 0\n",
      "2020-03-15 22:40:21,225: INFO: EPOCH 5 - PROGRESS: at 98.56% examples, 109187 words/s, in_qsize 0, out_qsize 0\n",
      "2020-03-15 22:40:22,227: INFO: EPOCH 5 - PROGRESS: at 98.59% examples, 109191 words/s, in_qsize 0, out_qsize 0\n",
      "2020-03-15 22:40:23,257: INFO: EPOCH 5 - PROGRESS: at 98.64% examples, 109196 words/s, in_qsize 0, out_qsize 0\n",
      "2020-03-15 22:40:24,259: INFO: EPOCH 5 - PROGRESS: at 98.67% examples, 109200 words/s, in_qsize 0, out_qsize 0\n",
      "2020-03-15 22:40:25,309: INFO: EPOCH 5 - PROGRESS: at 98.71% examples, 109205 words/s, in_qsize 0, out_qsize 0\n",
      "2020-03-15 22:40:26,311: INFO: EPOCH 5 - PROGRESS: at 98.76% examples, 109215 words/s, in_qsize 0, out_qsize 0\n",
      "2020-03-15 22:40:27,322: INFO: EPOCH 5 - PROGRESS: at 98.80% examples, 109223 words/s, in_qsize 0, out_qsize 0\n",
      "2020-03-15 22:40:28,353: INFO: EPOCH 5 - PROGRESS: at 98.84% examples, 109228 words/s, in_qsize 0, out_qsize 0\n",
      "2020-03-15 22:40:29,383: INFO: EPOCH 5 - PROGRESS: at 98.87% examples, 109223 words/s, in_qsize 0, out_qsize 0\n",
      "2020-03-15 22:40:30,444: INFO: EPOCH 5 - PROGRESS: at 98.90% examples, 109220 words/s, in_qsize 0, out_qsize 0\n",
      "2020-03-15 22:40:31,496: INFO: EPOCH 5 - PROGRESS: at 98.95% examples, 109227 words/s, in_qsize 0, out_qsize 0\n",
      "2020-03-15 22:40:32,525: INFO: EPOCH 5 - PROGRESS: at 98.99% examples, 109235 words/s, in_qsize 0, out_qsize 0\n",
      "2020-03-15 22:40:33,539: INFO: EPOCH 5 - PROGRESS: at 99.02% examples, 109229 words/s, in_qsize 0, out_qsize 0\n",
      "2020-03-15 22:40:34,592: INFO: EPOCH 5 - PROGRESS: at 99.05% examples, 109226 words/s, in_qsize 1, out_qsize 0\n",
      "2020-03-15 22:40:35,668: INFO: EPOCH 5 - PROGRESS: at 99.08% examples, 109212 words/s, in_qsize 0, out_qsize 0\n",
      "2020-03-15 22:40:36,690: INFO: EPOCH 5 - PROGRESS: at 99.11% examples, 109210 words/s, in_qsize 0, out_qsize 0\n",
      "2020-03-15 22:40:37,725: INFO: EPOCH 5 - PROGRESS: at 99.15% examples, 109209 words/s, in_qsize 0, out_qsize 0\n",
      "2020-03-15 22:40:38,788: INFO: EPOCH 5 - PROGRESS: at 99.19% examples, 109213 words/s, in_qsize 0, out_qsize 0\n",
      "2020-03-15 22:40:39,811: INFO: EPOCH 5 - PROGRESS: at 99.22% examples, 109211 words/s, in_qsize 0, out_qsize 0\n",
      "2020-03-15 22:40:40,918: INFO: EPOCH 5 - PROGRESS: at 99.26% examples, 109210 words/s, in_qsize 0, out_qsize 0\n",
      "2020-03-15 22:40:41,962: INFO: EPOCH 5 - PROGRESS: at 99.30% examples, 109215 words/s, in_qsize 1, out_qsize 0\n",
      "2020-03-15 22:40:42,973: INFO: EPOCH 5 - PROGRESS: at 99.33% examples, 109213 words/s, in_qsize 0, out_qsize 0\n",
      "2020-03-15 22:40:44,039: INFO: EPOCH 5 - PROGRESS: at 99.37% examples, 109218 words/s, in_qsize 0, out_qsize 0\n",
      "2020-03-15 22:40:45,066: INFO: EPOCH 5 - PROGRESS: at 99.41% examples, 109213 words/s, in_qsize 0, out_qsize 0\n",
      "2020-03-15 22:40:46,089: INFO: EPOCH 5 - PROGRESS: at 99.44% examples, 109216 words/s, in_qsize 0, out_qsize 0\n",
      "2020-03-15 22:40:47,142: INFO: EPOCH 5 - PROGRESS: at 99.49% examples, 109223 words/s, in_qsize 0, out_qsize 0\n",
      "2020-03-15 22:40:48,193: INFO: EPOCH 5 - PROGRESS: at 99.53% examples, 109227 words/s, in_qsize 1, out_qsize 0\n",
      "2020-03-15 22:40:49,229: INFO: EPOCH 5 - PROGRESS: at 99.57% examples, 109231 words/s, in_qsize 0, out_qsize 0\n",
      "2020-03-15 22:40:50,284: INFO: EPOCH 5 - PROGRESS: at 99.60% examples, 109230 words/s, in_qsize 0, out_qsize 0\n",
      "2020-03-15 22:40:51,334: INFO: EPOCH 5 - PROGRESS: at 99.65% examples, 109237 words/s, in_qsize 0, out_qsize 0\n",
      "2020-03-15 22:40:52,350: INFO: EPOCH 5 - PROGRESS: at 99.69% examples, 109245 words/s, in_qsize 0, out_qsize 0\n",
      "2020-03-15 22:40:53,413: INFO: EPOCH 5 - PROGRESS: at 99.74% examples, 109255 words/s, in_qsize 0, out_qsize 0\n",
      "2020-03-15 22:40:54,446: INFO: EPOCH 5 - PROGRESS: at 99.77% examples, 109255 words/s, in_qsize 1, out_qsize 0\n",
      "2020-03-15 22:40:55,500: INFO: EPOCH 5 - PROGRESS: at 99.82% examples, 109261 words/s, in_qsize 0, out_qsize 0\n",
      "2020-03-15 22:40:56,551: INFO: EPOCH 5 - PROGRESS: at 99.85% examples, 109260 words/s, in_qsize 0, out_qsize 0\n",
      "2020-03-15 22:40:57,590: INFO: EPOCH 5 - PROGRESS: at 99.89% examples, 109262 words/s, in_qsize 0, out_qsize 0\n",
      "2020-03-15 22:40:58,629: INFO: EPOCH 5 - PROGRESS: at 99.93% examples, 109269 words/s, in_qsize 1, out_qsize 0\n",
      "2020-03-15 22:40:59,653: INFO: EPOCH 5 - PROGRESS: at 99.97% examples, 109272 words/s, in_qsize 0, out_qsize 0\n",
      "2020-03-15 22:40:59,973: INFO: worker thread finished; awaiting finish of 7 more threads\n",
      "2020-03-15 22:41:00,043: INFO: worker thread finished; awaiting finish of 6 more threads\n",
      "2020-03-15 22:41:00,063: INFO: worker thread finished; awaiting finish of 5 more threads\n",
      "2020-03-15 22:41:00,093: INFO: worker thread finished; awaiting finish of 4 more threads\n",
      "2020-03-15 22:41:00,138: INFO: worker thread finished; awaiting finish of 3 more threads\n",
      "2020-03-15 22:41:00,156: INFO: worker thread finished; awaiting finish of 2 more threads\n",
      "2020-03-15 22:41:00,207: INFO: worker thread finished; awaiting finish of 1 more threads\n",
      "2020-03-15 22:41:00,237: INFO: worker thread finished; awaiting finish of 0 more threads\n",
      "2020-03-15 22:41:00,237: INFO: EPOCH - 5 : training on 409712425 raw words (317799592 effective words) took 2908.1s, 109280 effective words/s\n",
      "2020-03-15 22:41:00,246: INFO: training on a 2048562125 raw words (1589006281 effective words) took 15062.3s, 105495 effective words/s\n"
     ]
    }
   ],
   "source": [
    "model = Word2Vec(phraser[sentences], \n",
    "                 min_count=5,   # Ignore words that appear less than this\n",
    "                 size=300,      # Dimensionality of word embeddings\n",
    "                 workers=8,     # Number of processors (parallelisation)\n",
    "                 window=5,      # Context window for words during training\n",
    "                 iter=5,      # Number of epochs training over corpus\n",
    "                 sg=1,\n",
    "                negative=10)        # skip gram true"
   ]
  },
  {
   "cell_type": "code",
   "execution_count": null,
   "metadata": {},
   "outputs": [],
   "source": []
  },
  {
   "cell_type": "code",
   "execution_count": null,
   "metadata": {},
   "outputs": [],
   "source": []
  },
  {
   "cell_type": "code",
   "execution_count": 8,
   "metadata": {},
   "outputs": [
    {
     "name": "stderr",
     "output_type": "stream",
     "text": [
      "2020-03-15 22:42:12,527: INFO: saving Word2Vec object under WikiModelBigram.model, separately None\n",
      "2020-03-15 22:42:12,551: INFO: storing np array 'vectors' to WikiModelBigram.model.wv.vectors.npy\n",
      "2020-03-15 22:42:20,916: INFO: not storing attribute vectors_norm\n",
      "2020-03-15 22:42:20,936: INFO: storing np array 'syn1neg' to WikiModelBigram.model.trainables.syn1neg.npy\n",
      "2020-03-15 22:42:25,422: INFO: not storing attribute cum_table\n",
      "2020-03-15 22:42:31,077: INFO: saved WikiModelBigram.model\n"
     ]
    }
   ],
   "source": [
    "del sentences\n",
    "del phraser\n",
    "model.save('WikiModelBigram.model')"
   ]
  },
  {
   "cell_type": "code",
   "execution_count": 66,
   "metadata": {},
   "outputs": [
    {
     "name": "stderr",
     "output_type": "stream",
     "text": [
      "2020-03-15 23:20:59,428: INFO: loading Word2Vec object from WikiModelBigram.model\n",
      "2020-03-15 23:21:04,683: INFO: loading wv recursively from WikiModelBigram.model.wv.* with mmap=None\n",
      "2020-03-15 23:21:04,684: INFO: loading vectors from WikiModelBigram.model.wv.vectors.npy with mmap=None\n",
      "2020-03-15 23:21:06,538: INFO: setting ignored attribute vectors_norm to None\n",
      "2020-03-15 23:21:06,549: INFO: loading vocabulary recursively from WikiModelBigram.model.vocabulary.* with mmap=None\n",
      "2020-03-15 23:21:06,550: INFO: loading trainables recursively from WikiModelBigram.model.trainables.* with mmap=None\n",
      "2020-03-15 23:21:06,551: INFO: loading syn1neg from WikiModelBigram.model.trainables.syn1neg.npy with mmap=None\n",
      "2020-03-15 23:21:08,208: INFO: setting ignored attribute cum_table to None\n",
      "2020-03-15 23:21:08,344: INFO: loaded WikiModelBigram.model\n"
     ]
    }
   ],
   "source": [
    "model = Word2Vec.load('WikiModelBigram.model')"
   ]
  },
  {
   "cell_type": "code",
   "execution_count": 24,
   "metadata": {},
   "outputs": [
    {
     "data": {
      "text/plain": [
       "<gensim.models.word2vec.Word2VecVocab at 0x1a679bf310>"
      ]
     },
     "execution_count": 24,
     "metadata": {},
     "output_type": "execute_result"
    }
   ],
   "source": [
    "model.vocabulary"
   ]
  },
  {
   "cell_type": "code",
   "execution_count": 25,
   "metadata": {},
   "outputs": [
    {
     "ename": "AttributeError",
     "evalue": "'Word2Vec' object has no attribute 'voc'",
     "output_type": "error",
     "traceback": [
      "\u001b[0;31m---------------------------------------------------------------------------\u001b[0m",
      "\u001b[0;31mAttributeError\u001b[0m                            Traceback (most recent call last)",
      "\u001b[0;32m<ipython-input-25-6e2acf394ebc>\u001b[0m in \u001b[0;36m<module>\u001b[0;34m\u001b[0m\n\u001b[0;32m----> 1\u001b[0;31m \u001b[0mmodel\u001b[0m\u001b[0;34m.\u001b[0m\u001b[0mvoc\u001b[0m\u001b[0;34m\u001b[0m\u001b[0;34m\u001b[0m\u001b[0m\n\u001b[0m",
      "\u001b[0;31mAttributeError\u001b[0m: 'Word2Vec' object has no attribute 'voc'"
     ]
    }
   ],
   "source": [
    "model.voc"
   ]
  },
  {
   "cell_type": "code",
   "execution_count": 68,
   "metadata": {},
   "outputs": [
    {
     "ename": "TypeError",
     "evalue": "'Word2Vec' object does not support item deletion",
     "output_type": "error",
     "traceback": [
      "\u001b[0;31m---------------------------------------------------------------------------\u001b[0m",
      "\u001b[0;31mTypeError\u001b[0m                                 Traceback (most recent call last)",
      "\u001b[0;32m<ipython-input-68-0fe694af22cd>\u001b[0m in \u001b[0;36m<module>\u001b[0;34m\u001b[0m\n\u001b[0;32m----> 1\u001b[0;31m \u001b[0;32mdel\u001b[0m \u001b[0mmodel\u001b[0m\u001b[0;34m[\u001b[0m\u001b[0;34m'cet_ciao'\u001b[0m\u001b[0;34m]\u001b[0m\u001b[0;34m\u001b[0m\u001b[0;34m\u001b[0m\u001b[0m\n\u001b[0m",
      "\u001b[0;31mTypeError\u001b[0m: 'Word2Vec' object does not support item deletion"
     ]
    }
   ],
   "source": [
    "del model['cet_ciao']"
   ]
  },
  {
   "cell_type": "code",
   "execution_count": 72,
   "metadata": {},
   "outputs": [
    {
     "name": "stderr",
     "output_type": "stream",
     "text": [
      "/Users/stefanoraimondousai/opt/anaconda3/lib/python3.7/site-packages/ipykernel_launcher.py:1: DeprecationWarning: Call to deprecated `similar_by_word` (Method will be removed in 4.0.0, use self.wv.similar_by_word() instead).\n",
      "  \"\"\"Entry point for launching an IPython kernel.\n"
     ]
    },
    {
     "ename": "KeyError",
     "evalue": "\"word 'ciao' not in vocabulary\"",
     "output_type": "error",
     "traceback": [
      "\u001b[0;31m---------------------------------------------------------------------------\u001b[0m",
      "\u001b[0;31mKeyError\u001b[0m                                  Traceback (most recent call last)",
      "\u001b[0;32m<ipython-input-72-e450d00d0b2b>\u001b[0m in \u001b[0;36m<module>\u001b[0;34m\u001b[0m\n\u001b[0;32m----> 1\u001b[0;31m \u001b[0mmodel\u001b[0m\u001b[0;34m.\u001b[0m\u001b[0msimilar_by_word\u001b[0m\u001b[0;34m(\u001b[0m\u001b[0;34m'ciao'\u001b[0m\u001b[0;34m)\u001b[0m\u001b[0;34m\u001b[0m\u001b[0;34m\u001b[0m\u001b[0m\n\u001b[0m",
      "\u001b[0;32m~/opt/anaconda3/lib/python3.7/site-packages/gensim/utils.py\u001b[0m in \u001b[0;36mnew_func1\u001b[0;34m(*args, **kwargs)\u001b[0m\n\u001b[1;32m   1445\u001b[0m                     \u001b[0mstacklevel\u001b[0m\u001b[0;34m=\u001b[0m\u001b[0;36m2\u001b[0m\u001b[0;34m\u001b[0m\u001b[0;34m\u001b[0m\u001b[0m\n\u001b[1;32m   1446\u001b[0m                 )\n\u001b[0;32m-> 1447\u001b[0;31m                 \u001b[0;32mreturn\u001b[0m \u001b[0mfunc\u001b[0m\u001b[0;34m(\u001b[0m\u001b[0;34m*\u001b[0m\u001b[0margs\u001b[0m\u001b[0;34m,\u001b[0m \u001b[0;34m**\u001b[0m\u001b[0mkwargs\u001b[0m\u001b[0;34m)\u001b[0m\u001b[0;34m\u001b[0m\u001b[0;34m\u001b[0m\u001b[0m\n\u001b[0m\u001b[1;32m   1448\u001b[0m \u001b[0;34m\u001b[0m\u001b[0m\n\u001b[1;32m   1449\u001b[0m             \u001b[0;32mreturn\u001b[0m \u001b[0mnew_func1\u001b[0m\u001b[0;34m\u001b[0m\u001b[0;34m\u001b[0m\u001b[0m\n",
      "\u001b[0;32m~/opt/anaconda3/lib/python3.7/site-packages/gensim/models/base_any2vec.py\u001b[0m in \u001b[0;36msimilar_by_word\u001b[0;34m(self, word, topn, restrict_vocab)\u001b[0m\n\u001b[1;32m   1423\u001b[0m \u001b[0;34m\u001b[0m\u001b[0m\n\u001b[1;32m   1424\u001b[0m         \"\"\"\n\u001b[0;32m-> 1425\u001b[0;31m         \u001b[0;32mreturn\u001b[0m \u001b[0mself\u001b[0m\u001b[0;34m.\u001b[0m\u001b[0mwv\u001b[0m\u001b[0;34m.\u001b[0m\u001b[0msimilar_by_word\u001b[0m\u001b[0;34m(\u001b[0m\u001b[0mword\u001b[0m\u001b[0;34m,\u001b[0m \u001b[0mtopn\u001b[0m\u001b[0;34m,\u001b[0m \u001b[0mrestrict_vocab\u001b[0m\u001b[0;34m)\u001b[0m\u001b[0;34m\u001b[0m\u001b[0;34m\u001b[0m\u001b[0m\n\u001b[0m\u001b[1;32m   1426\u001b[0m \u001b[0;34m\u001b[0m\u001b[0m\n\u001b[1;32m   1427\u001b[0m     \u001b[0;34m@\u001b[0m\u001b[0mdeprecated\u001b[0m\u001b[0;34m(\u001b[0m\u001b[0;34m\"Method will be removed in 4.0.0, use self.wv.similar_by_vector() instead\"\u001b[0m\u001b[0;34m)\u001b[0m\u001b[0;34m\u001b[0m\u001b[0;34m\u001b[0m\u001b[0m\n",
      "\u001b[0;32m~/opt/anaconda3/lib/python3.7/site-packages/gensim/models/keyedvectors.py\u001b[0m in \u001b[0;36msimilar_by_word\u001b[0;34m(self, word, topn, restrict_vocab)\u001b[0m\n\u001b[1;32m    594\u001b[0m \u001b[0;34m\u001b[0m\u001b[0m\n\u001b[1;32m    595\u001b[0m         \"\"\"\n\u001b[0;32m--> 596\u001b[0;31m         \u001b[0;32mreturn\u001b[0m \u001b[0mself\u001b[0m\u001b[0;34m.\u001b[0m\u001b[0mmost_similar\u001b[0m\u001b[0;34m(\u001b[0m\u001b[0mpositive\u001b[0m\u001b[0;34m=\u001b[0m\u001b[0;34m[\u001b[0m\u001b[0mword\u001b[0m\u001b[0;34m]\u001b[0m\u001b[0;34m,\u001b[0m \u001b[0mtopn\u001b[0m\u001b[0;34m=\u001b[0m\u001b[0mtopn\u001b[0m\u001b[0;34m,\u001b[0m \u001b[0mrestrict_vocab\u001b[0m\u001b[0;34m=\u001b[0m\u001b[0mrestrict_vocab\u001b[0m\u001b[0;34m)\u001b[0m\u001b[0;34m\u001b[0m\u001b[0;34m\u001b[0m\u001b[0m\n\u001b[0m\u001b[1;32m    597\u001b[0m \u001b[0;34m\u001b[0m\u001b[0m\n\u001b[1;32m    598\u001b[0m     \u001b[0;32mdef\u001b[0m \u001b[0msimilar_by_vector\u001b[0m\u001b[0;34m(\u001b[0m\u001b[0mself\u001b[0m\u001b[0;34m,\u001b[0m \u001b[0mvector\u001b[0m\u001b[0;34m,\u001b[0m \u001b[0mtopn\u001b[0m\u001b[0;34m=\u001b[0m\u001b[0;36m10\u001b[0m\u001b[0;34m,\u001b[0m \u001b[0mrestrict_vocab\u001b[0m\u001b[0;34m=\u001b[0m\u001b[0;32mNone\u001b[0m\u001b[0;34m)\u001b[0m\u001b[0;34m:\u001b[0m\u001b[0;34m\u001b[0m\u001b[0;34m\u001b[0m\u001b[0m\n",
      "\u001b[0;32m~/opt/anaconda3/lib/python3.7/site-packages/gensim/models/keyedvectors.py\u001b[0m in \u001b[0;36mmost_similar\u001b[0;34m(self, positive, negative, topn, restrict_vocab, indexer)\u001b[0m\n\u001b[1;32m    551\u001b[0m                 \u001b[0mmean\u001b[0m\u001b[0;34m.\u001b[0m\u001b[0mappend\u001b[0m\u001b[0;34m(\u001b[0m\u001b[0mweight\u001b[0m \u001b[0;34m*\u001b[0m \u001b[0mword\u001b[0m\u001b[0;34m)\u001b[0m\u001b[0;34m\u001b[0m\u001b[0;34m\u001b[0m\u001b[0m\n\u001b[1;32m    552\u001b[0m             \u001b[0;32melse\u001b[0m\u001b[0;34m:\u001b[0m\u001b[0;34m\u001b[0m\u001b[0;34m\u001b[0m\u001b[0m\n\u001b[0;32m--> 553\u001b[0;31m                 \u001b[0mmean\u001b[0m\u001b[0;34m.\u001b[0m\u001b[0mappend\u001b[0m\u001b[0;34m(\u001b[0m\u001b[0mweight\u001b[0m \u001b[0;34m*\u001b[0m \u001b[0mself\u001b[0m\u001b[0;34m.\u001b[0m\u001b[0mword_vec\u001b[0m\u001b[0;34m(\u001b[0m\u001b[0mword\u001b[0m\u001b[0;34m,\u001b[0m \u001b[0muse_norm\u001b[0m\u001b[0;34m=\u001b[0m\u001b[0;32mTrue\u001b[0m\u001b[0;34m)\u001b[0m\u001b[0;34m)\u001b[0m\u001b[0;34m\u001b[0m\u001b[0;34m\u001b[0m\u001b[0m\n\u001b[0m\u001b[1;32m    554\u001b[0m                 \u001b[0;32mif\u001b[0m \u001b[0mword\u001b[0m \u001b[0;32min\u001b[0m \u001b[0mself\u001b[0m\u001b[0;34m.\u001b[0m\u001b[0mvocab\u001b[0m\u001b[0;34m:\u001b[0m\u001b[0;34m\u001b[0m\u001b[0;34m\u001b[0m\u001b[0m\n\u001b[1;32m    555\u001b[0m                     \u001b[0mall_words\u001b[0m\u001b[0;34m.\u001b[0m\u001b[0madd\u001b[0m\u001b[0;34m(\u001b[0m\u001b[0mself\u001b[0m\u001b[0;34m.\u001b[0m\u001b[0mvocab\u001b[0m\u001b[0;34m[\u001b[0m\u001b[0mword\u001b[0m\u001b[0;34m]\u001b[0m\u001b[0;34m.\u001b[0m\u001b[0mindex\u001b[0m\u001b[0;34m)\u001b[0m\u001b[0;34m\u001b[0m\u001b[0;34m\u001b[0m\u001b[0m\n",
      "\u001b[0;32m~/opt/anaconda3/lib/python3.7/site-packages/gensim/models/keyedvectors.py\u001b[0m in \u001b[0;36mword_vec\u001b[0;34m(self, word, use_norm)\u001b[0m\n\u001b[1;32m    466\u001b[0m             \u001b[0;32mreturn\u001b[0m \u001b[0mresult\u001b[0m\u001b[0;34m\u001b[0m\u001b[0;34m\u001b[0m\u001b[0m\n\u001b[1;32m    467\u001b[0m         \u001b[0;32melse\u001b[0m\u001b[0;34m:\u001b[0m\u001b[0;34m\u001b[0m\u001b[0;34m\u001b[0m\u001b[0m\n\u001b[0;32m--> 468\u001b[0;31m             \u001b[0;32mraise\u001b[0m \u001b[0mKeyError\u001b[0m\u001b[0;34m(\u001b[0m\u001b[0;34m\"word '%s' not in vocabulary\"\u001b[0m \u001b[0;34m%\u001b[0m \u001b[0mword\u001b[0m\u001b[0;34m)\u001b[0m\u001b[0;34m\u001b[0m\u001b[0;34m\u001b[0m\u001b[0m\n\u001b[0m\u001b[1;32m    469\u001b[0m \u001b[0;34m\u001b[0m\u001b[0m\n\u001b[1;32m    470\u001b[0m     \u001b[0;32mdef\u001b[0m \u001b[0mget_vector\u001b[0m\u001b[0;34m(\u001b[0m\u001b[0mself\u001b[0m\u001b[0;34m,\u001b[0m \u001b[0mword\u001b[0m\u001b[0;34m)\u001b[0m\u001b[0;34m:\u001b[0m\u001b[0;34m\u001b[0m\u001b[0;34m\u001b[0m\u001b[0m\n",
      "\u001b[0;31mKeyError\u001b[0m: \"word 'ciao' not in vocabulary\""
     ]
    }
   ],
   "source": [
    "model.similar_by_word('ciao')"
   ]
  },
  {
   "cell_type": "code",
   "execution_count": 71,
   "metadata": {},
   "outputs": [
    {
     "name": "stderr",
     "output_type": "stream",
     "text": [
      "/Users/stefanoraimondousai/opt/anaconda3/lib/python3.7/site-packages/ipykernel_launcher.py:1: DeprecationWarning: Call to deprecated `evaluate_word_pairs` (Method will be removed in 4.0.0, use self.wv.evaluate_word_pairs() instead).\n",
      "  \"\"\"Entry point for launching an IPython kernel.\n"
     ]
    },
    {
     "ename": "FileNotFoundError",
     "evalue": "[Errno 2] No such file or directory: 'ciao'",
     "output_type": "error",
     "traceback": [
      "\u001b[0;31m---------------------------------------------------------------------------\u001b[0m",
      "\u001b[0;31mFileNotFoundError\u001b[0m                         Traceback (most recent call last)",
      "\u001b[0;32m<ipython-input-71-5f3b4138a6ed>\u001b[0m in \u001b[0;36m<module>\u001b[0;34m\u001b[0m\n\u001b[0;32m----> 1\u001b[0;31m \u001b[0mmodel\u001b[0m\u001b[0;34m.\u001b[0m\u001b[0mevaluate_word_pairs\u001b[0m\u001b[0;34m(\u001b[0m\u001b[0;34m'ciao'\u001b[0m\u001b[0;34m,\u001b[0m \u001b[0;34m'salve'\u001b[0m\u001b[0;34m)\u001b[0m\u001b[0;34m\u001b[0m\u001b[0;34m\u001b[0m\u001b[0m\n\u001b[0m",
      "\u001b[0;32m~/opt/anaconda3/lib/python3.7/site-packages/gensim/utils.py\u001b[0m in \u001b[0;36mnew_func1\u001b[0;34m(*args, **kwargs)\u001b[0m\n\u001b[1;32m   1445\u001b[0m                     \u001b[0mstacklevel\u001b[0m\u001b[0;34m=\u001b[0m\u001b[0;36m2\u001b[0m\u001b[0;34m\u001b[0m\u001b[0;34m\u001b[0m\u001b[0m\n\u001b[1;32m   1446\u001b[0m                 )\n\u001b[0;32m-> 1447\u001b[0;31m                 \u001b[0;32mreturn\u001b[0m \u001b[0mfunc\u001b[0m\u001b[0;34m(\u001b[0m\u001b[0;34m*\u001b[0m\u001b[0margs\u001b[0m\u001b[0;34m,\u001b[0m \u001b[0;34m**\u001b[0m\u001b[0mkwargs\u001b[0m\u001b[0;34m)\u001b[0m\u001b[0;34m\u001b[0m\u001b[0;34m\u001b[0m\u001b[0m\n\u001b[0m\u001b[1;32m   1448\u001b[0m \u001b[0;34m\u001b[0m\u001b[0m\n\u001b[1;32m   1449\u001b[0m             \u001b[0;32mreturn\u001b[0m \u001b[0mnew_func1\u001b[0m\u001b[0;34m\u001b[0m\u001b[0;34m\u001b[0m\u001b[0m\n",
      "\u001b[0;32m~/opt/anaconda3/lib/python3.7/site-packages/gensim/models/base_any2vec.py\u001b[0m in \u001b[0;36mevaluate_word_pairs\u001b[0;34m(self, pairs, delimiter, restrict_vocab, case_insensitive, dummy4unknown)\u001b[0m\n\u001b[1;32m   1470\u001b[0m \u001b[0;34m\u001b[0m\u001b[0m\n\u001b[1;32m   1471\u001b[0m         \"\"\"\n\u001b[0;32m-> 1472\u001b[0;31m         \u001b[0;32mreturn\u001b[0m \u001b[0mself\u001b[0m\u001b[0;34m.\u001b[0m\u001b[0mwv\u001b[0m\u001b[0;34m.\u001b[0m\u001b[0mevaluate_word_pairs\u001b[0m\u001b[0;34m(\u001b[0m\u001b[0mpairs\u001b[0m\u001b[0;34m,\u001b[0m \u001b[0mdelimiter\u001b[0m\u001b[0;34m,\u001b[0m \u001b[0mrestrict_vocab\u001b[0m\u001b[0;34m,\u001b[0m \u001b[0mcase_insensitive\u001b[0m\u001b[0;34m,\u001b[0m \u001b[0mdummy4unknown\u001b[0m\u001b[0;34m)\u001b[0m\u001b[0;34m\u001b[0m\u001b[0;34m\u001b[0m\u001b[0m\n\u001b[0m",
      "\u001b[0;32m~/opt/anaconda3/lib/python3.7/site-packages/gensim/models/keyedvectors.py\u001b[0m in \u001b[0;36mevaluate_word_pairs\u001b[0;34m(self, pairs, delimiter, restrict_vocab, case_insensitive, dummy4unknown)\u001b[0m\n\u001b[1;32m   1289\u001b[0m         \u001b[0mself\u001b[0m\u001b[0;34m.\u001b[0m\u001b[0mvocab\u001b[0m \u001b[0;34m=\u001b[0m \u001b[0mok_vocab\u001b[0m\u001b[0;34m\u001b[0m\u001b[0;34m\u001b[0m\u001b[0m\n\u001b[1;32m   1290\u001b[0m \u001b[0;34m\u001b[0m\u001b[0m\n\u001b[0;32m-> 1291\u001b[0;31m         \u001b[0;32mwith\u001b[0m \u001b[0mutils\u001b[0m\u001b[0;34m.\u001b[0m\u001b[0mopen\u001b[0m\u001b[0;34m(\u001b[0m\u001b[0mpairs\u001b[0m\u001b[0;34m,\u001b[0m \u001b[0;34m'rb'\u001b[0m\u001b[0;34m)\u001b[0m \u001b[0;32mas\u001b[0m \u001b[0mfin\u001b[0m\u001b[0;34m:\u001b[0m\u001b[0;34m\u001b[0m\u001b[0;34m\u001b[0m\u001b[0m\n\u001b[0m\u001b[1;32m   1292\u001b[0m             \u001b[0;32mfor\u001b[0m \u001b[0mline_no\u001b[0m\u001b[0;34m,\u001b[0m \u001b[0mline\u001b[0m \u001b[0;32min\u001b[0m \u001b[0menumerate\u001b[0m\u001b[0;34m(\u001b[0m\u001b[0mfin\u001b[0m\u001b[0;34m)\u001b[0m\u001b[0;34m:\u001b[0m\u001b[0;34m\u001b[0m\u001b[0;34m\u001b[0m\u001b[0m\n\u001b[1;32m   1293\u001b[0m                 \u001b[0mline\u001b[0m \u001b[0;34m=\u001b[0m \u001b[0mutils\u001b[0m\u001b[0;34m.\u001b[0m\u001b[0mto_unicode\u001b[0m\u001b[0;34m(\u001b[0m\u001b[0mline\u001b[0m\u001b[0;34m)\u001b[0m\u001b[0;34m\u001b[0m\u001b[0;34m\u001b[0m\u001b[0m\n",
      "\u001b[0;32m~/opt/anaconda3/lib/python3.7/site-packages/smart_open/smart_open_lib.py\u001b[0m in \u001b[0;36mopen\u001b[0;34m(uri, mode, buffering, encoding, errors, newline, closefd, opener, ignore_ext, transport_params)\u001b[0m\n\u001b[1;32m    306\u001b[0m         \u001b[0mbuffering\u001b[0m\u001b[0;34m=\u001b[0m\u001b[0mbuffering\u001b[0m\u001b[0;34m,\u001b[0m\u001b[0;34m\u001b[0m\u001b[0;34m\u001b[0m\u001b[0m\n\u001b[1;32m    307\u001b[0m         \u001b[0mencoding\u001b[0m\u001b[0;34m=\u001b[0m\u001b[0mencoding\u001b[0m\u001b[0;34m,\u001b[0m\u001b[0;34m\u001b[0m\u001b[0;34m\u001b[0m\u001b[0m\n\u001b[0;32m--> 308\u001b[0;31m         \u001b[0merrors\u001b[0m\u001b[0;34m=\u001b[0m\u001b[0merrors\u001b[0m\u001b[0;34m,\u001b[0m\u001b[0;34m\u001b[0m\u001b[0;34m\u001b[0m\u001b[0m\n\u001b[0m\u001b[1;32m    309\u001b[0m     )\n\u001b[1;32m    310\u001b[0m     \u001b[0;32mif\u001b[0m \u001b[0mfobj\u001b[0m \u001b[0;32mis\u001b[0m \u001b[0;32mnot\u001b[0m \u001b[0;32mNone\u001b[0m\u001b[0;34m:\u001b[0m\u001b[0;34m\u001b[0m\u001b[0;34m\u001b[0m\u001b[0m\n",
      "\u001b[0;32m~/opt/anaconda3/lib/python3.7/site-packages/smart_open/smart_open_lib.py\u001b[0m in \u001b[0;36m_shortcut_open\u001b[0;34m(uri, mode, ignore_ext, buffering, encoding, errors)\u001b[0m\n\u001b[1;32m    515\u001b[0m     \u001b[0;31m#\u001b[0m\u001b[0;34m\u001b[0m\u001b[0;34m\u001b[0m\u001b[0;34m\u001b[0m\u001b[0m\n\u001b[1;32m    516\u001b[0m     \u001b[0;32mif\u001b[0m \u001b[0msix\u001b[0m\u001b[0;34m.\u001b[0m\u001b[0mPY3\u001b[0m\u001b[0;34m:\u001b[0m\u001b[0;34m\u001b[0m\u001b[0;34m\u001b[0m\u001b[0m\n\u001b[0;32m--> 517\u001b[0;31m         \u001b[0;32mreturn\u001b[0m \u001b[0m_builtin_open\u001b[0m\u001b[0;34m(\u001b[0m\u001b[0mparsed_uri\u001b[0m\u001b[0;34m.\u001b[0m\u001b[0muri_path\u001b[0m\u001b[0;34m,\u001b[0m \u001b[0mmode\u001b[0m\u001b[0;34m,\u001b[0m \u001b[0mbuffering\u001b[0m\u001b[0;34m=\u001b[0m\u001b[0mbuffering\u001b[0m\u001b[0;34m,\u001b[0m \u001b[0;34m**\u001b[0m\u001b[0mopen_kwargs\u001b[0m\u001b[0;34m)\u001b[0m\u001b[0;34m\u001b[0m\u001b[0;34m\u001b[0m\u001b[0m\n\u001b[0m\u001b[1;32m    518\u001b[0m     \u001b[0;32melif\u001b[0m \u001b[0;32mnot\u001b[0m \u001b[0mopen_kwargs\u001b[0m\u001b[0;34m:\u001b[0m\u001b[0;34m\u001b[0m\u001b[0;34m\u001b[0m\u001b[0m\n\u001b[1;32m    519\u001b[0m         \u001b[0;32mreturn\u001b[0m \u001b[0m_builtin_open\u001b[0m\u001b[0;34m(\u001b[0m\u001b[0mparsed_uri\u001b[0m\u001b[0;34m.\u001b[0m\u001b[0muri_path\u001b[0m\u001b[0;34m,\u001b[0m \u001b[0mmode\u001b[0m\u001b[0;34m,\u001b[0m \u001b[0mbuffering\u001b[0m\u001b[0;34m=\u001b[0m\u001b[0mbuffering\u001b[0m\u001b[0;34m)\u001b[0m\u001b[0;34m\u001b[0m\u001b[0;34m\u001b[0m\u001b[0m\n",
      "\u001b[0;31mFileNotFoundError\u001b[0m: [Errno 2] No such file or directory: 'ciao'"
     ]
    }
   ],
   "source": [
    "model.evaluate_word_pairs('ciao', 'salve')"
   ]
  },
  {
   "cell_type": "code",
   "execution_count": 73,
   "metadata": {},
   "outputs": [
    {
     "data": {
      "text/plain": [
       "<gensim.models.word2vec.Word2Vec at 0x1a6719ead0>"
      ]
     },
     "execution_count": 73,
     "metadata": {},
     "output_type": "execute_result"
    }
   ],
   "source": [
    " model"
   ]
  },
  {
   "cell_type": "code",
   "execution_count": null,
   "metadata": {},
   "outputs": [],
   "source": []
  }
 ],
 "metadata": {
  "kernelspec": {
   "display_name": "Python 3",
   "language": "python",
   "name": "python3"
  },
  "language_info": {
   "codemirror_mode": {
    "name": "ipython",
    "version": 3
   },
   "file_extension": ".py",
   "mimetype": "text/x-python",
   "name": "python",
   "nbconvert_exporter": "python",
   "pygments_lexer": "ipython3",
   "version": "3.7.4"
  }
 },
 "nbformat": 4,
 "nbformat_minor": 4
}
